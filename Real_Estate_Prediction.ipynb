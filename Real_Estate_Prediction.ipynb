{
  "nbformat": 4,
  "nbformat_minor": 0,
  "metadata": {
    "colab": {
      "provenance": [],
      "mount_file_id": "1KRLgK3YV1stTFTz2jp349GON6liWvXVU",
      "authorship_tag": "ABX9TyP5mq0xjEeCED0lFtKP8MId",
      "include_colab_link": true
    },
    "kernelspec": {
      "name": "python3",
      "display_name": "Python 3"
    },
    "language_info": {
      "name": "python"
    }
  },
  "cells": [
    {
      "cell_type": "markdown",
      "metadata": {
        "id": "view-in-github",
        "colab_type": "text"
      },
      "source": [
        "<a href=\"https://colab.research.google.com/github/Darkred69/Real---Estate-Prediction/blob/main/Real_Estate_Prediction.ipynb\" target=\"_parent\"><img src=\"https://colab.research.google.com/assets/colab-badge.svg\" alt=\"Open In Colab\"/></a>"
      ]
    },
    {
      "cell_type": "code",
      "execution_count": null,
      "metadata": {
        "id": "hySeTguKAzrf"
      },
      "outputs": [],
      "source": [
        "import pandas as pd\n",
        "import matplotlib.pyplot as plt"
      ]
    },
    {
      "cell_type": "code",
      "source": [
        "df = pd.read_excel('/content/drive/MyDrive/ML Timo/housing.xlsx',index_col=0)"
      ],
      "metadata": {
        "id": "IRDm9gUpBIJH"
      },
      "execution_count": null,
      "outputs": []
    },
    {
      "cell_type": "code",
      "source": [
        "df"
      ],
      "metadata": {
        "id": "fsrXQTHfBJUX",
        "colab": {
          "base_uri": "https://localhost:8080/",
          "height": 424
        },
        "outputId": "ca484431-f75a-496a-dc10-aa6ed05aa83b"
      },
      "execution_count": null,
      "outputs": [
        {
          "output_type": "execute_result",
          "data": {
            "text/plain": [
              "       Price  Area  Bedrooms  Bathrooms  Fireplaces  Age\n",
              "1     142212  1982         3        1.0           0  133\n",
              "2     134865  1676         3        1.5           1   14\n",
              "3     118007  1694         3        2.0           1   15\n",
              "4     138297  1800         2        1.0           2   49\n",
              "5     129470  2088         3        1.0           1   29\n",
              "...      ...   ...       ...        ...         ...  ...\n",
              "1053  107695  1802         4        2.0           1   56\n",
              "1054  236737  3239         4        3.5           2    1\n",
              "1055  154829  1440         2        2.0           1   66\n",
              "1056  179492  2030         3        2.5           1    3\n",
              "1057  189108  2097         3        2.5           1   10\n",
              "\n",
              "[1057 rows x 6 columns]"
            ],
            "text/html": [
              "\n",
              "  <div id=\"df-152032d7-2df8-4273-bf1e-c6a326617e25\">\n",
              "    <div class=\"colab-df-container\">\n",
              "      <div>\n",
              "<style scoped>\n",
              "    .dataframe tbody tr th:only-of-type {\n",
              "        vertical-align: middle;\n",
              "    }\n",
              "\n",
              "    .dataframe tbody tr th {\n",
              "        vertical-align: top;\n",
              "    }\n",
              "\n",
              "    .dataframe thead th {\n",
              "        text-align: right;\n",
              "    }\n",
              "</style>\n",
              "<table border=\"1\" class=\"dataframe\">\n",
              "  <thead>\n",
              "    <tr style=\"text-align: right;\">\n",
              "      <th></th>\n",
              "      <th>Price</th>\n",
              "      <th>Area</th>\n",
              "      <th>Bedrooms</th>\n",
              "      <th>Bathrooms</th>\n",
              "      <th>Fireplaces</th>\n",
              "      <th>Age</th>\n",
              "    </tr>\n",
              "  </thead>\n",
              "  <tbody>\n",
              "    <tr>\n",
              "      <th>1</th>\n",
              "      <td>142212</td>\n",
              "      <td>1982</td>\n",
              "      <td>3</td>\n",
              "      <td>1.0</td>\n",
              "      <td>0</td>\n",
              "      <td>133</td>\n",
              "    </tr>\n",
              "    <tr>\n",
              "      <th>2</th>\n",
              "      <td>134865</td>\n",
              "      <td>1676</td>\n",
              "      <td>3</td>\n",
              "      <td>1.5</td>\n",
              "      <td>1</td>\n",
              "      <td>14</td>\n",
              "    </tr>\n",
              "    <tr>\n",
              "      <th>3</th>\n",
              "      <td>118007</td>\n",
              "      <td>1694</td>\n",
              "      <td>3</td>\n",
              "      <td>2.0</td>\n",
              "      <td>1</td>\n",
              "      <td>15</td>\n",
              "    </tr>\n",
              "    <tr>\n",
              "      <th>4</th>\n",
              "      <td>138297</td>\n",
              "      <td>1800</td>\n",
              "      <td>2</td>\n",
              "      <td>1.0</td>\n",
              "      <td>2</td>\n",
              "      <td>49</td>\n",
              "    </tr>\n",
              "    <tr>\n",
              "      <th>5</th>\n",
              "      <td>129470</td>\n",
              "      <td>2088</td>\n",
              "      <td>3</td>\n",
              "      <td>1.0</td>\n",
              "      <td>1</td>\n",
              "      <td>29</td>\n",
              "    </tr>\n",
              "    <tr>\n",
              "      <th>...</th>\n",
              "      <td>...</td>\n",
              "      <td>...</td>\n",
              "      <td>...</td>\n",
              "      <td>...</td>\n",
              "      <td>...</td>\n",
              "      <td>...</td>\n",
              "    </tr>\n",
              "    <tr>\n",
              "      <th>1053</th>\n",
              "      <td>107695</td>\n",
              "      <td>1802</td>\n",
              "      <td>4</td>\n",
              "      <td>2.0</td>\n",
              "      <td>1</td>\n",
              "      <td>56</td>\n",
              "    </tr>\n",
              "    <tr>\n",
              "      <th>1054</th>\n",
              "      <td>236737</td>\n",
              "      <td>3239</td>\n",
              "      <td>4</td>\n",
              "      <td>3.5</td>\n",
              "      <td>2</td>\n",
              "      <td>1</td>\n",
              "    </tr>\n",
              "    <tr>\n",
              "      <th>1055</th>\n",
              "      <td>154829</td>\n",
              "      <td>1440</td>\n",
              "      <td>2</td>\n",
              "      <td>2.0</td>\n",
              "      <td>1</td>\n",
              "      <td>66</td>\n",
              "    </tr>\n",
              "    <tr>\n",
              "      <th>1056</th>\n",
              "      <td>179492</td>\n",
              "      <td>2030</td>\n",
              "      <td>3</td>\n",
              "      <td>2.5</td>\n",
              "      <td>1</td>\n",
              "      <td>3</td>\n",
              "    </tr>\n",
              "    <tr>\n",
              "      <th>1057</th>\n",
              "      <td>189108</td>\n",
              "      <td>2097</td>\n",
              "      <td>3</td>\n",
              "      <td>2.5</td>\n",
              "      <td>1</td>\n",
              "      <td>10</td>\n",
              "    </tr>\n",
              "  </tbody>\n",
              "</table>\n",
              "<p>1057 rows × 6 columns</p>\n",
              "</div>\n",
              "      <button class=\"colab-df-convert\" onclick=\"convertToInteractive('df-152032d7-2df8-4273-bf1e-c6a326617e25')\"\n",
              "              title=\"Convert this dataframe to an interactive table.\"\n",
              "              style=\"display:none;\">\n",
              "        \n",
              "  <svg xmlns=\"http://www.w3.org/2000/svg\" height=\"24px\"viewBox=\"0 0 24 24\"\n",
              "       width=\"24px\">\n",
              "    <path d=\"M0 0h24v24H0V0z\" fill=\"none\"/>\n",
              "    <path d=\"M18.56 5.44l.94 2.06.94-2.06 2.06-.94-2.06-.94-.94-2.06-.94 2.06-2.06.94zm-11 1L8.5 8.5l.94-2.06 2.06-.94-2.06-.94L8.5 2.5l-.94 2.06-2.06.94zm10 10l.94 2.06.94-2.06 2.06-.94-2.06-.94-.94-2.06-.94 2.06-2.06.94z\"/><path d=\"M17.41 7.96l-1.37-1.37c-.4-.4-.92-.59-1.43-.59-.52 0-1.04.2-1.43.59L10.3 9.45l-7.72 7.72c-.78.78-.78 2.05 0 2.83L4 21.41c.39.39.9.59 1.41.59.51 0 1.02-.2 1.41-.59l7.78-7.78 2.81-2.81c.8-.78.8-2.07 0-2.86zM5.41 20L4 18.59l7.72-7.72 1.47 1.35L5.41 20z\"/>\n",
              "  </svg>\n",
              "      </button>\n",
              "      \n",
              "  <style>\n",
              "    .colab-df-container {\n",
              "      display:flex;\n",
              "      flex-wrap:wrap;\n",
              "      gap: 12px;\n",
              "    }\n",
              "\n",
              "    .colab-df-convert {\n",
              "      background-color: #E8F0FE;\n",
              "      border: none;\n",
              "      border-radius: 50%;\n",
              "      cursor: pointer;\n",
              "      display: none;\n",
              "      fill: #1967D2;\n",
              "      height: 32px;\n",
              "      padding: 0 0 0 0;\n",
              "      width: 32px;\n",
              "    }\n",
              "\n",
              "    .colab-df-convert:hover {\n",
              "      background-color: #E2EBFA;\n",
              "      box-shadow: 0px 1px 2px rgba(60, 64, 67, 0.3), 0px 1px 3px 1px rgba(60, 64, 67, 0.15);\n",
              "      fill: #174EA6;\n",
              "    }\n",
              "\n",
              "    [theme=dark] .colab-df-convert {\n",
              "      background-color: #3B4455;\n",
              "      fill: #D2E3FC;\n",
              "    }\n",
              "\n",
              "    [theme=dark] .colab-df-convert:hover {\n",
              "      background-color: #434B5C;\n",
              "      box-shadow: 0px 1px 3px 1px rgba(0, 0, 0, 0.15);\n",
              "      filter: drop-shadow(0px 1px 2px rgba(0, 0, 0, 0.3));\n",
              "      fill: #FFFFFF;\n",
              "    }\n",
              "  </style>\n",
              "\n",
              "      <script>\n",
              "        const buttonEl =\n",
              "          document.querySelector('#df-152032d7-2df8-4273-bf1e-c6a326617e25 button.colab-df-convert');\n",
              "        buttonEl.style.display =\n",
              "          google.colab.kernel.accessAllowed ? 'block' : 'none';\n",
              "\n",
              "        async function convertToInteractive(key) {\n",
              "          const element = document.querySelector('#df-152032d7-2df8-4273-bf1e-c6a326617e25');\n",
              "          const dataTable =\n",
              "            await google.colab.kernel.invokeFunction('convertToInteractive',\n",
              "                                                     [key], {});\n",
              "          if (!dataTable) return;\n",
              "\n",
              "          const docLinkHtml = 'Like what you see? Visit the ' +\n",
              "            '<a target=\"_blank\" href=https://colab.research.google.com/notebooks/data_table.ipynb>data table notebook</a>'\n",
              "            + ' to learn more about interactive tables.';\n",
              "          element.innerHTML = '';\n",
              "          dataTable['output_type'] = 'display_data';\n",
              "          await google.colab.output.renderOutput(dataTable, element);\n",
              "          const docLink = document.createElement('div');\n",
              "          docLink.innerHTML = docLinkHtml;\n",
              "          element.appendChild(docLink);\n",
              "        }\n",
              "      </script>\n",
              "    </div>\n",
              "  </div>\n",
              "  "
            ]
          },
          "metadata": {},
          "execution_count": 4
        }
      ]
    },
    {
      "cell_type": "code",
      "source": [
        "df.isnull().sum()"
      ],
      "metadata": {
        "colab": {
          "base_uri": "https://localhost:8080/"
        },
        "id": "nUqd3vGhBZTx",
        "outputId": "7f3d7a45-1cd8-44a1-c916-4699a2f2596a"
      },
      "execution_count": null,
      "outputs": [
        {
          "output_type": "execute_result",
          "data": {
            "text/plain": [
              "Price         0\n",
              "Area          0\n",
              "Bedrooms      0\n",
              "Bathrooms     0\n",
              "Fireplaces    0\n",
              "Age           0\n",
              "dtype: int64"
            ]
          },
          "metadata": {},
          "execution_count": 5
        }
      ]
    },
    {
      "cell_type": "code",
      "source": [
        "df.describe()"
      ],
      "metadata": {
        "colab": {
          "base_uri": "https://localhost:8080/",
          "height": 300
        },
        "id": "XA32dtL5BaiS",
        "outputId": "34ec39d9-5c85-478c-9800-27ec51a31300"
      },
      "execution_count": null,
      "outputs": [
        {
          "output_type": "execute_result",
          "data": {
            "text/plain": [
              "               Price         Area     Bedrooms    Bathrooms   Fireplaces  \\\n",
              "count    1057.000000  1057.000000  1057.000000  1057.000000  1057.000000   \n",
              "mean   167901.857143  1819.497635     3.184484     1.928571     0.624409   \n",
              "std     77158.346637   662.941385     0.740486     0.650144     0.550387   \n",
              "min     16858.000000   672.000000     1.000000     1.000000     0.000000   \n",
              "25%    112400.000000  1342.000000     3.000000     1.500000     0.000000   \n",
              "50%    152404.000000  1675.000000     3.000000     2.000000     1.000000   \n",
              "75%    206512.000000  2223.000000     4.000000     2.500000     1.000000   \n",
              "max    599701.000000  5228.000000     5.000000     4.500000     4.000000   \n",
              "\n",
              "               Age  \n",
              "count  1057.000000  \n",
              "mean     28.089877  \n",
              "std      34.928017  \n",
              "min       0.000000  \n",
              "25%       6.000000  \n",
              "50%      18.000000  \n",
              "75%      34.000000  \n",
              "max     247.000000  "
            ],
            "text/html": [
              "\n",
              "  <div id=\"df-b1ed40da-e707-4ffa-9f27-5e7e95b85ece\">\n",
              "    <div class=\"colab-df-container\">\n",
              "      <div>\n",
              "<style scoped>\n",
              "    .dataframe tbody tr th:only-of-type {\n",
              "        vertical-align: middle;\n",
              "    }\n",
              "\n",
              "    .dataframe tbody tr th {\n",
              "        vertical-align: top;\n",
              "    }\n",
              "\n",
              "    .dataframe thead th {\n",
              "        text-align: right;\n",
              "    }\n",
              "</style>\n",
              "<table border=\"1\" class=\"dataframe\">\n",
              "  <thead>\n",
              "    <tr style=\"text-align: right;\">\n",
              "      <th></th>\n",
              "      <th>Price</th>\n",
              "      <th>Area</th>\n",
              "      <th>Bedrooms</th>\n",
              "      <th>Bathrooms</th>\n",
              "      <th>Fireplaces</th>\n",
              "      <th>Age</th>\n",
              "    </tr>\n",
              "  </thead>\n",
              "  <tbody>\n",
              "    <tr>\n",
              "      <th>count</th>\n",
              "      <td>1057.000000</td>\n",
              "      <td>1057.000000</td>\n",
              "      <td>1057.000000</td>\n",
              "      <td>1057.000000</td>\n",
              "      <td>1057.000000</td>\n",
              "      <td>1057.000000</td>\n",
              "    </tr>\n",
              "    <tr>\n",
              "      <th>mean</th>\n",
              "      <td>167901.857143</td>\n",
              "      <td>1819.497635</td>\n",
              "      <td>3.184484</td>\n",
              "      <td>1.928571</td>\n",
              "      <td>0.624409</td>\n",
              "      <td>28.089877</td>\n",
              "    </tr>\n",
              "    <tr>\n",
              "      <th>std</th>\n",
              "      <td>77158.346637</td>\n",
              "      <td>662.941385</td>\n",
              "      <td>0.740486</td>\n",
              "      <td>0.650144</td>\n",
              "      <td>0.550387</td>\n",
              "      <td>34.928017</td>\n",
              "    </tr>\n",
              "    <tr>\n",
              "      <th>min</th>\n",
              "      <td>16858.000000</td>\n",
              "      <td>672.000000</td>\n",
              "      <td>1.000000</td>\n",
              "      <td>1.000000</td>\n",
              "      <td>0.000000</td>\n",
              "      <td>0.000000</td>\n",
              "    </tr>\n",
              "    <tr>\n",
              "      <th>25%</th>\n",
              "      <td>112400.000000</td>\n",
              "      <td>1342.000000</td>\n",
              "      <td>3.000000</td>\n",
              "      <td>1.500000</td>\n",
              "      <td>0.000000</td>\n",
              "      <td>6.000000</td>\n",
              "    </tr>\n",
              "    <tr>\n",
              "      <th>50%</th>\n",
              "      <td>152404.000000</td>\n",
              "      <td>1675.000000</td>\n",
              "      <td>3.000000</td>\n",
              "      <td>2.000000</td>\n",
              "      <td>1.000000</td>\n",
              "      <td>18.000000</td>\n",
              "    </tr>\n",
              "    <tr>\n",
              "      <th>75%</th>\n",
              "      <td>206512.000000</td>\n",
              "      <td>2223.000000</td>\n",
              "      <td>4.000000</td>\n",
              "      <td>2.500000</td>\n",
              "      <td>1.000000</td>\n",
              "      <td>34.000000</td>\n",
              "    </tr>\n",
              "    <tr>\n",
              "      <th>max</th>\n",
              "      <td>599701.000000</td>\n",
              "      <td>5228.000000</td>\n",
              "      <td>5.000000</td>\n",
              "      <td>4.500000</td>\n",
              "      <td>4.000000</td>\n",
              "      <td>247.000000</td>\n",
              "    </tr>\n",
              "  </tbody>\n",
              "</table>\n",
              "</div>\n",
              "      <button class=\"colab-df-convert\" onclick=\"convertToInteractive('df-b1ed40da-e707-4ffa-9f27-5e7e95b85ece')\"\n",
              "              title=\"Convert this dataframe to an interactive table.\"\n",
              "              style=\"display:none;\">\n",
              "        \n",
              "  <svg xmlns=\"http://www.w3.org/2000/svg\" height=\"24px\"viewBox=\"0 0 24 24\"\n",
              "       width=\"24px\">\n",
              "    <path d=\"M0 0h24v24H0V0z\" fill=\"none\"/>\n",
              "    <path d=\"M18.56 5.44l.94 2.06.94-2.06 2.06-.94-2.06-.94-.94-2.06-.94 2.06-2.06.94zm-11 1L8.5 8.5l.94-2.06 2.06-.94-2.06-.94L8.5 2.5l-.94 2.06-2.06.94zm10 10l.94 2.06.94-2.06 2.06-.94-2.06-.94-.94-2.06-.94 2.06-2.06.94z\"/><path d=\"M17.41 7.96l-1.37-1.37c-.4-.4-.92-.59-1.43-.59-.52 0-1.04.2-1.43.59L10.3 9.45l-7.72 7.72c-.78.78-.78 2.05 0 2.83L4 21.41c.39.39.9.59 1.41.59.51 0 1.02-.2 1.41-.59l7.78-7.78 2.81-2.81c.8-.78.8-2.07 0-2.86zM5.41 20L4 18.59l7.72-7.72 1.47 1.35L5.41 20z\"/>\n",
              "  </svg>\n",
              "      </button>\n",
              "      \n",
              "  <style>\n",
              "    .colab-df-container {\n",
              "      display:flex;\n",
              "      flex-wrap:wrap;\n",
              "      gap: 12px;\n",
              "    }\n",
              "\n",
              "    .colab-df-convert {\n",
              "      background-color: #E8F0FE;\n",
              "      border: none;\n",
              "      border-radius: 50%;\n",
              "      cursor: pointer;\n",
              "      display: none;\n",
              "      fill: #1967D2;\n",
              "      height: 32px;\n",
              "      padding: 0 0 0 0;\n",
              "      width: 32px;\n",
              "    }\n",
              "\n",
              "    .colab-df-convert:hover {\n",
              "      background-color: #E2EBFA;\n",
              "      box-shadow: 0px 1px 2px rgba(60, 64, 67, 0.3), 0px 1px 3px 1px rgba(60, 64, 67, 0.15);\n",
              "      fill: #174EA6;\n",
              "    }\n",
              "\n",
              "    [theme=dark] .colab-df-convert {\n",
              "      background-color: #3B4455;\n",
              "      fill: #D2E3FC;\n",
              "    }\n",
              "\n",
              "    [theme=dark] .colab-df-convert:hover {\n",
              "      background-color: #434B5C;\n",
              "      box-shadow: 0px 1px 3px 1px rgba(0, 0, 0, 0.15);\n",
              "      filter: drop-shadow(0px 1px 2px rgba(0, 0, 0, 0.3));\n",
              "      fill: #FFFFFF;\n",
              "    }\n",
              "  </style>\n",
              "\n",
              "      <script>\n",
              "        const buttonEl =\n",
              "          document.querySelector('#df-b1ed40da-e707-4ffa-9f27-5e7e95b85ece button.colab-df-convert');\n",
              "        buttonEl.style.display =\n",
              "          google.colab.kernel.accessAllowed ? 'block' : 'none';\n",
              "\n",
              "        async function convertToInteractive(key) {\n",
              "          const element = document.querySelector('#df-b1ed40da-e707-4ffa-9f27-5e7e95b85ece');\n",
              "          const dataTable =\n",
              "            await google.colab.kernel.invokeFunction('convertToInteractive',\n",
              "                                                     [key], {});\n",
              "          if (!dataTable) return;\n",
              "\n",
              "          const docLinkHtml = 'Like what you see? Visit the ' +\n",
              "            '<a target=\"_blank\" href=https://colab.research.google.com/notebooks/data_table.ipynb>data table notebook</a>'\n",
              "            + ' to learn more about interactive tables.';\n",
              "          element.innerHTML = '';\n",
              "          dataTable['output_type'] = 'display_data';\n",
              "          await google.colab.output.renderOutput(dataTable, element);\n",
              "          const docLink = document.createElement('div');\n",
              "          docLink.innerHTML = docLinkHtml;\n",
              "          element.appendChild(docLink);\n",
              "        }\n",
              "      </script>\n",
              "    </div>\n",
              "  </div>\n",
              "  "
            ]
          },
          "metadata": {},
          "execution_count": 6
        }
      ]
    },
    {
      "cell_type": "code",
      "source": [
        "df.info()"
      ],
      "metadata": {
        "colab": {
          "base_uri": "https://localhost:8080/"
        },
        "id": "NHGZFutWBczF",
        "outputId": "bb12c73d-333b-452e-f892-c43ed36e5bc9"
      },
      "execution_count": null,
      "outputs": [
        {
          "output_type": "stream",
          "name": "stdout",
          "text": [
            "<class 'pandas.core.frame.DataFrame'>\n",
            "Int64Index: 1057 entries, 1 to 1057\n",
            "Data columns (total 6 columns):\n",
            " #   Column      Non-Null Count  Dtype  \n",
            "---  ------      --------------  -----  \n",
            " 0   Price       1057 non-null   int64  \n",
            " 1   Area        1057 non-null   int64  \n",
            " 2   Bedrooms    1057 non-null   int64  \n",
            " 3   Bathrooms   1057 non-null   float64\n",
            " 4   Fireplaces  1057 non-null   int64  \n",
            " 5   Age         1057 non-null   int64  \n",
            "dtypes: float64(1), int64(5)\n",
            "memory usage: 57.8 KB\n"
          ]
        }
      ]
    },
    {
      "cell_type": "markdown",
      "source": [
        "# Linear Regression"
      ],
      "metadata": {
        "id": "QdWJFdK1FBoh"
      }
    },
    {
      "cell_type": "code",
      "source": [
        "#Correlation check\n",
        "import seaborn as sns\n",
        "plt.figure(figsize=(14,10))\n",
        "sns.heatmap(df.corr(), annot=True, cmap='coolwarm')"
      ],
      "metadata": {
        "colab": {
          "base_uri": "https://localhost:8080/",
          "height": 613
        },
        "id": "xlZimmjgBsf7",
        "outputId": "6e474766-f52a-420a-af6d-6976028fcd65"
      },
      "execution_count": null,
      "outputs": [
        {
          "output_type": "execute_result",
          "data": {
            "text/plain": [
              "<AxesSubplot:>"
            ]
          },
          "metadata": {},
          "execution_count": 11
        },
        {
          "output_type": "display_data",
          "data": {
            "text/plain": [
              "<Figure size 1008x720 with 2 Axes>"
            ],
            "image/png": "[encoded data removed]"
          },
          "metadata": {
            "needs_background": "light"
          }
        }
      ]
    },
    {
      "cell_type": "code",
      "source": [
        "X_data = df.drop([\"Price\",\"Age\",\"Bedrooms\",\"Fireplaces\"],axis=1)\n",
        "y_data = df.Price\n",
        "#y_data\n",
        "X_data"
      ],
      "metadata": {
        "colab": {
          "base_uri": "https://localhost:8080/",
          "height": 424
        },
        "id": "y58gvzD-Be3v",
        "outputId": "5b164a35-730d-40e4-de21-10bd95cd24f4"
      },
      "execution_count": null,
      "outputs": [
        {
          "output_type": "execute_result",
          "data": {
            "text/plain": [
              "      Area  Bathrooms\n",
              "1     1982        1.0\n",
              "2     1676        1.5\n",
              "3     1694        2.0\n",
              "4     1800        1.0\n",
              "5     2088        1.0\n",
              "...    ...        ...\n",
              "1053  1802        2.0\n",
              "1054  3239        3.5\n",
              "1055  1440        2.0\n",
              "1056  2030        2.5\n",
              "1057  2097        2.5\n",
              "\n",
              "[1057 rows x 2 columns]"
            ],
            "text/html": [
              "\n",
              "  <div id=\"df-402a3d21-a360-4ca4-bfb3-b4f83fc6120c\">\n",
              "    <div class=\"colab-df-container\">\n",
              "      <div>\n",
              "<style scoped>\n",
              "    .dataframe tbody tr th:only-of-type {\n",
              "        vertical-align: middle;\n",
              "    }\n",
              "\n",
              "    .dataframe tbody tr th {\n",
              "        vertical-align: top;\n",
              "    }\n",
              "\n",
              "    .dataframe thead th {\n",
              "        text-align: right;\n",
              "    }\n",
              "</style>\n",
              "<table border=\"1\" class=\"dataframe\">\n",
              "  <thead>\n",
              "    <tr style=\"text-align: right;\">\n",
              "      <th></th>\n",
              "      <th>Area</th>\n",
              "      <th>Bathrooms</th>\n",
              "    </tr>\n",
              "  </thead>\n",
              "  <tbody>\n",
              "    <tr>\n",
              "      <th>1</th>\n",
              "      <td>1982</td>\n",
              "      <td>1.0</td>\n",
              "    </tr>\n",
              "    <tr>\n",
              "      <th>2</th>\n",
              "      <td>1676</td>\n",
              "      <td>1.5</td>\n",
              "    </tr>\n",
              "    <tr>\n",
              "      <th>3</th>\n",
              "      <td>1694</td>\n",
              "      <td>2.0</td>\n",
              "    </tr>\n",
              "    <tr>\n",
              "      <th>4</th>\n",
              "      <td>1800</td>\n",
              "      <td>1.0</td>\n",
              "    </tr>\n",
              "    <tr>\n",
              "      <th>5</th>\n",
              "      <td>2088</td>\n",
              "      <td>1.0</td>\n",
              "    </tr>\n",
              "    <tr>\n",
              "      <th>...</th>\n",
              "      <td>...</td>\n",
              "      <td>...</td>\n",
              "    </tr>\n",
              "    <tr>\n",
              "      <th>1053</th>\n",
              "      <td>1802</td>\n",
              "      <td>2.0</td>\n",
              "    </tr>\n",
              "    <tr>\n",
              "      <th>1054</th>\n",
              "      <td>3239</td>\n",
              "      <td>3.5</td>\n",
              "    </tr>\n",
              "    <tr>\n",
              "      <th>1055</th>\n",
              "      <td>1440</td>\n",
              "      <td>2.0</td>\n",
              "    </tr>\n",
              "    <tr>\n",
              "      <th>1056</th>\n",
              "      <td>2030</td>\n",
              "      <td>2.5</td>\n",
              "    </tr>\n",
              "    <tr>\n",
              "      <th>1057</th>\n",
              "      <td>2097</td>\n",
              "      <td>2.5</td>\n",
              "    </tr>\n",
              "  </tbody>\n",
              "</table>\n",
              "<p>1057 rows × 2 columns</p>\n",
              "</div>\n",
              "      <button class=\"colab-df-convert\" onclick=\"convertToInteractive('df-402a3d21-a360-4ca4-bfb3-b4f83fc6120c')\"\n",
              "              title=\"Convert this dataframe to an interactive table.\"\n",
              "              style=\"display:none;\">\n",
              "        \n",
              "  <svg xmlns=\"http://www.w3.org/2000/svg\" height=\"24px\"viewBox=\"0 0 24 24\"\n",
              "       width=\"24px\">\n",
              "    <path d=\"M0 0h24v24H0V0z\" fill=\"none\"/>\n",
              "    <path d=\"M18.56 5.44l.94 2.06.94-2.06 2.06-.94-2.06-.94-.94-2.06-.94 2.06-2.06.94zm-11 1L8.5 8.5l.94-2.06 2.06-.94-2.06-.94L8.5 2.5l-.94 2.06-2.06.94zm10 10l.94 2.06.94-2.06 2.06-.94-2.06-.94-.94-2.06-.94 2.06-2.06.94z\"/><path d=\"M17.41 7.96l-1.37-1.37c-.4-.4-.92-.59-1.43-.59-.52 0-1.04.2-1.43.59L10.3 9.45l-7.72 7.72c-.78.78-.78 2.05 0 2.83L4 21.41c.39.39.9.59 1.41.59.51 0 1.02-.2 1.41-.59l7.78-7.78 2.81-2.81c.8-.78.8-2.07 0-2.86zM5.41 20L4 18.59l7.72-7.72 1.47 1.35L5.41 20z\"/>\n",
              "  </svg>\n",
              "      </button>\n",
              "      \n",
              "  <style>\n",
              "    .colab-df-container {\n",
              "      display:flex;\n",
              "      flex-wrap:wrap;\n",
              "      gap: 12px;\n",
              "    }\n",
              "\n",
              "    .colab-df-convert {\n",
              "      background-color: #E8F0FE;\n",
              "      border: none;\n",
              "      border-radius: 50%;\n",
              "      cursor: pointer;\n",
              "      display: none;\n",
              "      fill: #1967D2;\n",
              "      height: 32px;\n",
              "      padding: 0 0 0 0;\n",
              "      width: 32px;\n",
              "    }\n",
              "\n",
              "    .colab-df-convert:hover {\n",
              "      background-color: #E2EBFA;\n",
              "      box-shadow: 0px 1px 2px rgba(60, 64, 67, 0.3), 0px 1px 3px 1px rgba(60, 64, 67, 0.15);\n",
              "      fill: #174EA6;\n",
              "    }\n",
              "\n",
              "    [theme=dark] .colab-df-convert {\n",
              "      background-color: #3B4455;\n",
              "      fill: #D2E3FC;\n",
              "    }\n",
              "\n",
              "    [theme=dark] .colab-df-convert:hover {\n",
              "      background-color: #434B5C;\n",
              "      box-shadow: 0px 1px 3px 1px rgba(0, 0, 0, 0.15);\n",
              "      filter: drop-shadow(0px 1px 2px rgba(0, 0, 0, 0.3));\n",
              "      fill: #FFFFFF;\n",
              "    }\n",
              "  </style>\n",
              "\n",
              "      <script>\n",
              "        const buttonEl =\n",
              "          document.querySelector('#df-402a3d21-a360-4ca4-bfb3-b4f83fc6120c button.colab-df-convert');\n",
              "        buttonEl.style.display =\n",
              "          google.colab.kernel.accessAllowed ? 'block' : 'none';\n",
              "\n",
              "        async function convertToInteractive(key) {\n",
              "          const element = document.querySelector('#df-402a3d21-a360-4ca4-bfb3-b4f83fc6120c');\n",
              "          const dataTable =\n",
              "            await google.colab.kernel.invokeFunction('convertToInteractive',\n",
              "                                                     [key], {});\n",
              "          if (!dataTable) return;\n",
              "\n",
              "          const docLinkHtml = 'Like what you see? Visit the ' +\n",
              "            '<a target=\"_blank\" href=https://colab.research.google.com/notebooks/data_table.ipynb>data table notebook</a>'\n",
              "            + ' to learn more about interactive tables.';\n",
              "          element.innerHTML = '';\n",
              "          dataTable['output_type'] = 'display_data';\n",
              "          await google.colab.output.renderOutput(dataTable, element);\n",
              "          const docLink = document.createElement('div');\n",
              "          docLink.innerHTML = docLinkHtml;\n",
              "          element.appendChild(docLink);\n",
              "        }\n",
              "      </script>\n",
              "    </div>\n",
              "  </div>\n",
              "  "
            ]
          },
          "metadata": {},
          "execution_count": 12
        }
      ]
    },
    {
      "cell_type": "code",
      "source": [
        "#Normalization using MinMaxScaler \n",
        "from sklearn.preprocessing import MinMaxScaler\n",
        "scaler  = MinMaxScaler()\n",
        "scaler .fit(X_data)\n",
        "data_minmax= scaler.transform(X_data)"
      ],
      "metadata": {
        "id": "Fa6iYiXoBg1j"
      },
      "execution_count": null,
      "outputs": []
    },
    {
      "cell_type": "code",
      "source": [
        "#Train test sample \n",
        "from sklearn.model_selection import train_test_split\n",
        "X_train, X_test, y_train, y_test = train_test_split(data_minmax, y_data, test_size=0.8)\n",
        "X_test"
      ],
      "metadata": {
        "colab": {
          "base_uri": "https://localhost:8080/"
        },
        "id": "PNH-OnFUBlmE",
        "outputId": "471024d2-d623-45d9-d1bc-ee8ef785e6fa"
      },
      "execution_count": null,
      "outputs": [
        {
          "output_type": "execute_result",
          "data": {
            "text/plain": [
              "array([[0.21136962, 0.14285714],\n",
              "       [0.28511853, 0.42857143],\n",
              "       [0.22080773, 0.42857143],\n",
              "       ...,\n",
              "       [0.04214223, 0.14285714],\n",
              "       [0.24670764, 0.42857143],\n",
              "       [0.31760316, 0.42857143]])"
            ]
          },
          "metadata": {},
          "execution_count": 14
        }
      ]
    },
    {
      "cell_type": "code",
      "source": [
        "#Linear Regression modal\n",
        "from sklearn.linear_model import LinearRegression \n",
        "from sklearn import linear_model\n",
        "model=linear_model.LinearRegression()\n",
        "model.fit(X_train,y_train)\n",
        "\n"
      ],
      "metadata": {
        "colab": {
          "base_uri": "https://localhost:8080/",
          "height": 75
        },
        "id": "S07sT7ulBo92",
        "outputId": "7593b3f4-5830-47cf-b5cc-193259d155ef"
      },
      "execution_count": 32,
      "outputs": [
        {
          "output_type": "execute_result",
          "data": {
            "text/plain": [
              "LinearRegression()"
            ],
            "text/html": [
              "<style>#sk-container-id-1 {color: black;background-color: white;}#sk-container-id-1 pre{padding: 0;}#sk-container-id-1 div.sk-toggleable {background-color: white;}#sk-container-id-1 label.sk-toggleable__label {cursor: pointer;display: block;width: 100%;margin-bottom: 0;padding: 0.3em;box-sizing: border-box;text-align: center;}#sk-container-id-1 label.sk-toggleable__label-arrow:before {content: \"▸\";float: left;margin-right: 0.25em;color: #696969;}#sk-container-id-1 label.sk-toggleable__label-arrow:hover:before {color: black;}#sk-container-id-1 div.sk-estimator:hover label.sk-toggleable__label-arrow:before {color: black;}#sk-container-id-1 div.sk-toggleable__content {max-height: 0;max-width: 0;overflow: hidden;text-align: left;background-color: #f0f8ff;}#sk-container-id-1 div.sk-toggleable__content pre {margin: 0.2em;color: black;border-radius: 0.25em;background-color: #f0f8ff;}#sk-container-id-1 input.sk-toggleable__control:checked~div.sk-toggleable__content {max-height: 200px;max-width: 100%;overflow: auto;}#sk-container-id-1 input.sk-toggleable__control:checked~label.sk-toggleable__label-arrow:before {content: \"▾\";}#sk-container-id-1 div.sk-estimator input.sk-toggleable__control:checked~label.sk-toggleable__label {background-color: #d4ebff;}#sk-container-id-1 div.sk-label input.sk-toggleable__control:checked~label.sk-toggleable__label {background-color: #d4ebff;}#sk-container-id-1 input.sk-hidden--visually {border: 0;clip: rect(1px 1px 1px 1px);clip: rect(1px, 1px, 1px, 1px);height: 1px;margin: -1px;overflow: hidden;padding: 0;position: absolute;width: 1px;}#sk-container-id-1 div.sk-estimator {font-family: monospace;background-color: #f0f8ff;border: 1px dotted black;border-radius: 0.25em;box-sizing: border-box;margin-bottom: 0.5em;}#sk-container-id-1 div.sk-estimator:hover {background-color: #d4ebff;}#sk-container-id-1 div.sk-parallel-item::after {content: \"\";width: 100%;border-bottom: 1px solid gray;flex-grow: 1;}#sk-container-id-1 div.sk-label:hover label.sk-toggleable__label {background-color: #d4ebff;}#sk-container-id-1 div.sk-serial::before {content: \"\";position: absolute;border-left: 1px solid gray;box-sizing: border-box;top: 0;bottom: 0;left: 50%;z-index: 0;}#sk-container-id-1 div.sk-serial {display: flex;flex-direction: column;align-items: center;background-color: white;padding-right: 0.2em;padding-left: 0.2em;position: relative;}#sk-container-id-1 div.sk-item {position: relative;z-index: 1;}#sk-container-id-1 div.sk-parallel {display: flex;align-items: stretch;justify-content: center;background-color: white;position: relative;}#sk-container-id-1 div.sk-item::before, #sk-container-id-1 div.sk-parallel-item::before {content: \"\";position: absolute;border-left: 1px solid gray;box-sizing: border-box;top: 0;bottom: 0;left: 50%;z-index: -1;}#sk-container-id-1 div.sk-parallel-item {display: flex;flex-direction: column;z-index: 1;position: relative;background-color: white;}#sk-container-id-1 div.sk-parallel-item:first-child::after {align-self: flex-end;width: 50%;}#sk-container-id-1 div.sk-parallel-item:last-child::after {align-self: flex-start;width: 50%;}#sk-container-id-1 div.sk-parallel-item:only-child::after {width: 0;}#sk-container-id-1 div.sk-dashed-wrapped {border: 1px dashed gray;margin: 0 0.4em 0.5em 0.4em;box-sizing: border-box;padding-bottom: 0.4em;background-color: white;}#sk-container-id-1 div.sk-label label {font-family: monospace;font-weight: bold;display: inline-block;line-height: 1.2em;}#sk-container-id-1 div.sk-label-container {text-align: center;}#sk-container-id-1 div.sk-container {/* jupyter's `normalize.less` sets `[hidden] { display: none; }` but bootstrap.min.css set `[hidden] { display: none !important; }` so we also need the `!important` here to be able to override the default hidden behavior on the sphinx rendered scikit-learn.org. See: https://github.com/scikit-learn/scikit-learn/issues/21755 */display: inline-block !important;position: relative;}#sk-container-id-1 div.sk-text-repr-fallback {display: none;}</style><div id=\"sk-container-id-1\" class=\"sk-top-container\"><div class=\"sk-text-repr-fallback\"><pre>LinearRegression()</pre><b>In a Jupyter environment, please rerun this cell to show the HTML representation or trust the notebook. <br />On GitHub, the HTML representation is unable to render, please try loading this page with nbviewer.org.</b></div><div class=\"sk-container\" hidden><div class=\"sk-item\"><div class=\"sk-estimator sk-toggleable\"><input class=\"sk-toggleable__control sk-hidden--visually\" id=\"sk-estimator-id-1\" type=\"checkbox\" checked><label for=\"sk-estimator-id-1\" class=\"sk-toggleable__label sk-toggleable__label-arrow\">LinearRegression</label><div class=\"sk-toggleable__content\"><pre>LinearRegression()</pre></div></div></div></div></div>"
            ]
          },
          "metadata": {},
          "execution_count": 32
        }
      ]
    },
    {
      "cell_type": "code",
      "source": [
        "#Model score\n",
        "model.score(X_test,y_test)"
      ],
      "metadata": {
        "colab": {
          "base_uri": "https://localhost:8080/"
        },
        "id": "_nzFkAqdB4CP",
        "outputId": "01710730-68b9-4afe-b314-4a0817199e6d"
      },
      "execution_count": 34,
      "outputs": [
        {
          "output_type": "execute_result",
          "data": {
            "text/plain": [
              "0.5736005733920365"
            ]
          },
          "metadata": {},
          "execution_count": 34
        }
      ]
    },
    {
      "cell_type": "markdown",
      "source": [
        "# Support Vector Regression and it's effection comparison with Linear Regression\n"
      ],
      "metadata": {
        "id": "-TPNXO1QCVAe"
      }
    },
    {
      "cell_type": "code",
      "source": [
        "import pandas as pd \n",
        "import numpy as np \n",
        "from sklearn.linear_model import LinearRegression \n",
        "from sklearn.svm import SVR \n",
        "import plotly.graph_objects as go # for data visualization\n",
        "import plotly.express as px "
      ],
      "metadata": {
        "id": "srfmbwU6B5eu"
      },
      "execution_count": null,
      "outputs": []
    },
    {
      "cell_type": "code",
      "source": [
        "# Create a scatter plot\n",
        "fig = px.scatter(df, x=df['Area'], y=df['Price'], \n",
        "                 opacity=0.8, color_discrete_sequence=['black'])"
      ],
      "metadata": {
        "id": "IXa0Rb_DCBpG"
      },
      "execution_count": null,
      "outputs": []
    },
    {
      "cell_type": "code",
      "source": [
        "# Change chart background color\n",
        "fig.update_layout(dict(plot_bgcolor = 'white'))\n",
        "# Update axes lines\n",
        "fig.update_xaxes(showgrid=True, gridwidth=1, gridcolor='lightgrey', \n",
        "                 zeroline=True, zerolinewidth=1, zerolinecolor='lightgrey', \n",
        "                 showline=True, linewidth=1, linecolor='black')\n",
        "\n",
        "fig.update_yaxes(showgrid=True, gridwidth=1, gridcolor='lightgrey', \n",
        "                 zeroline=True, zerolinewidth=1, zerolinecolor='lightgrey', \n",
        "                 showline=True, linewidth=1, linecolor='black')\n",
        "# Update marker size\n",
        "fig.update_traces(marker=dict(size=3))\n",
        "\n",
        "fig.show()"
      ],
      "metadata": {
        "colab": {
          "base_uri": "https://localhost:8080/",
          "height": 542
        },
        "id": "NbPv7BqmCDbg",
        "outputId": "73fe8298-ac37-4def-f2e9-a27f2be34b9c"
      },
      "execution_count": null,
      "outputs": [
        {
          "output_type": "display_data",
          "data": {
            "text/html": [
              "<html>\n",
              "<head><meta charset=\"utf-8\" /></head>\n",
              "<body>\n",
              "    <div>            <script src=\"https://cdnjs.cloudflare.com/ajax/libs/mathjax/2.7.5/MathJax.js?config=TeX-AMS-MML_SVG\"></script><script type=\"text/javascript\">if (window.MathJax) {MathJax.Hub.Config({SVG: {font: \"STIX-Web\"}});}</script>                <script type=\"text/javascript\">window.PlotlyConfig = {MathJaxConfig: 'local'};</script>\n",
              "        <script src=\"https://cdn.plot.ly/plotly-2.8.3.min.js\"></script>                <div id=\"d2447803-1e8f-412b-b218-c0e87ab58040\" class=\"plotly-graph-div\" style=\"height:525px; width:100%;\"></div>            <script type=\"text/javascript\">                                    window.PLOTLYENV=window.PLOTLYENV || {};                                    if (document.getElementById(\"d2447803-1e8f-412b-b218-c0e87ab58040\")) {                    Plotly.newPlot(                        \"d2447803-1e8f-412b-b218-c0e87ab58040\",                        [{\"hovertemplate\":\"Area=%{x}<br>Price=%{y}<extra></extra>\",\"legendgroup\":\"\",\"marker\":{\"color\":\"black\",\"opacity\":0.8,\"symbol\":\"circle\",\"size\":3},\"mode\":\"markers\",\"name\":\"\",\"showlegend\":false,\"x\":[1982,1676,1694,1800,2088,1456,960,1464,1216,1632,2270,1804,1600,1460,1548,1590,1170,1510,2299,2577,2328,1172,1554,1242,1376,1107,2250,2472,2843,1400,1342,813,1480,1392,1512,1512,1696,1595,1480,2291,1391,2501,1662,957,1480,2275,1440,1008,1480,2116,1100,960,1228,1560,2164,2634,1000,912,1572,1700,1350,1416,1560,1572,1326,1989,1158,1272,1852,2308,1700,1628,2738,1292,1056,1328,1272,1944,1232,1164,1215,1486,1272,1064,1547,1148,1821,1056,995,1176,912,1500,1852,1214,1380,1324,1218,1629,1053,1308,1344,1608,3285,1582,1642,1248,1411,1593,1666,1471,1876,1486,1747,1512,2527,1666,1456,3015,967,1720,3515,2815,720,3001,1822,1666,1343,1144,1214,1888,1668,3853,1486,2278,1360,3504,1921,3726,912,2079,1184,908,1492,2011,912,2195,1561,2656,2425,908,1158,1334,1561,1680,1514,1656,1184,2648,1092,1880,1592,2516,2310,3076,908,912,1680,3355,1886,1605,1772,2044,1124,3192,1498,1092,896,1572,986,2087,1596,908,1500,1719,2810,1806,3355,1760,1896,1498,1248,2320,1132,2359,3476,1693,1585,1758,2524,1908,1476,2266,1920,1730,1726,1644,1908,2475,3020,2310,2119,5228,2056,2500,2576,2541,2445,2185,3981,2577,1728,1837,2500,1910,2958,2564,2604,2906,1480,1872,1911,1302,1664,2512,2380,1887,2086,1554,3358,2394,2066,3111,2402,2327,2541,1894,1740,1480,1752,1375,1918,2793,2619,1744,3720,2000,1142,2612,2008,2035,1375,822,3597,1536,1910,3017,1971,1314,1944,1375,1140,1480,2110,972,960,2262,864,2150,1170,1596,1530,1380,1708,1308,1416,1900,1704,1372,1480,3003,1298,1772,1536,1400,1580,1656,1235,1628,1144,1300,1560,3319,1210,1768,1164,1832,1276,2092,2116,1248,2128,1056,2068,3069,2334,1551,1456,775,1756,1296,1404,1632,1564,1501,1586,1412,2223,1370,3030,2103,1560,1512,3133,2316,1198,1292,957,1216,2256,2043,1512,1570,1616,1404,1552,1472,2367,1475,1632,1964,2064,1601,2284,1672,2495,1176,1498,1272,1138,2186,1743,2488,936,2592,1327,864,1216,3467,1480,892,2786,3530,1568,847,2242,1374,1920,2124,1480,2022,1098,1224,2550,1279,1177,1859,2219,2579,1568,912,1209,2242,2270,3457,1738,1334,2322,1870,1888,1368,1200,1368,2230,1800,1043,1200,2346,792,2300,2280,1652,2238,1016,1970,1680,1386,1550,2058,1126,1850,1673,2208,1116,1470,2986,3356,1016,1612,1908,1064,2078,2470,2058,1400,1664,1488,1120,672,1164,1032,1736,1061,1298,1164,924,960,1594,2008,1268,1480,1034,1480,1350,1248,2294,1492,1336,2310,1542,1984,1480,1856,1688,1248,2405,1392,1394,1940,2068,1664,1320,1281,1397,1620,1344,3361,2040,1219,1253,1876,3296,1496,2200,3308,3328,1824,2147,2093,1336,2934,1152,1348,2376,2926,2249,2919,3423,1536,2216,2572,2412,1281,1623,2619,1364,1620,1785,1796,1184,1785,2655,3200,2011,3329,1240,1184,1385,1732,728,1508,1466,690,911,1656,1782,912,1508,1266,912,1506,1928,1536,1811,1948,864,1760,1872,2250,924,1406,3535,1561,988,1785,2655,2372,2504,1184,1527,1764,1184,1168,912,912,1492,1508,1270,2310,1688,2548,1385,3271,1921,1560,1840,1704,1971,3106,924,1216,1635,1892,2950,2539,1375,1302,937,3376,2328,1994,2623,2602,1480,924,3236,1973,1422,1352,2772,1620,2500,1702,2748,2310,1740,2500,1832,2657,976,1612,1456,1992,2348,2676,2304,3440,2593,2162,1578,2088,924,1734,1792,2960,2993,2027,2421,1758,2702,2600,2572,2498,2396,2641,3123,2028,3721,1873,2608,929,924,1227,2294,976,2762,2618,2024,1864,1780,1734,2014,1314,2262,1927,2708,1910,1480,1875,1665,2170,1822,1784,1348,1480,1052,1836,1728,2214,2733,2931,2900,2254,2056,1212,2564,2176,3496,1332,1244,1290,1989,1212,2119,1808,1716,1872,1548,1536,1380,1080,1800,1754,1170,2088,1890,1742,1544,1463,840,988,1680,1804,1498,1656,1720,1820,2076,1820,1468,1637,2526,1322,1736,1836,1643,1842,2167,1475,3026,1092,2311,1256,1040,1120,1664,2268,1302,1239,780,1272,2472,1666,984,1322,2586,1008,1092,2576,3250,1445,1932,1430,1474,1908,2329,936,1920,1675,1600,1428,1536,1924,1576,1288,840,1110,784,5114,1980,1290,2000,2490,1764,952,1560,2932,2563,2310,1792,1250,1500,864,1392,812,1760,898,1096,1200,2016,1310,960,1056,1512,1890,1812,1952,1856,924,2346,1274,1420,2296,2026,990,1711,3944,1344,878,2248,2107,1364,1270,2120,1668,2110,1242,1040,2084,1360,2024,1019,3028,1242,1528,2988,1428,1144,1666,2202,1184,2601,2510,3056,1592,1240,1673,1852,1184,2641,1184,1952,2038,1276,908,2434,912,2494,2960,1294,2152,988,2712,2203,3001,2310,2040,3144,1806,1540,2011,3344,2714,1518,1836,2066,1423,1512,2144,1610,1196,1376,1834,1720,1295,800,1868,1946,1142,1202,1300,1508,2271,1592,912,1673,2310,912,2641,1708,988,2058,2310,2434,1612,3081,1227,2762,3982,2212,1173,2604,1540,2472,1184,2120,2472,1592,1404,3344,1690,1512,1820,1476,1652,2331,960,1540,1668,912,743,3021,1274,792,960,1600,1150,1456,2464,1326,2808,1479,2498,1064,1792,3121,1032,2668,2996,1815,1281,2204,2096,2570,2936,3210,3020,2086,1980,1260,1938,2284,1804,1375,2226,1480,1228,1886,1479,3440,2588,2880,2133,1056,1314,2741,1326,1380,1480,2050,2338,1910,1652,3542,929,1831,1468,2039,1794,1666,2388,2505,2284,1879,1664,3820,2809,2066,1664,2350,2116,1480,1524,1034,1480,880,1512,912,1611,1470,2748,1512,1512,2039,1480,2872,1244,1355,1564,1022,1480,1904,1592,1332,960,2143,1514,1986,2286,2752,1656,3370,1932,1184,2712,2500,912,2604,1836,882,2002,912,1508,882,2396,2460,2322,1480,2306,2756,1664,3956,3125,2835,2464,2628,1099,1225,2764,840,1363,1472,1836,1774,1590,2109,1470,2314,1040,1308,1954,1764,2498,1874,2892,2400,1572,1678,1388,1512,1653,1758,2310,1802,3239,1440,2030,2097],\"xaxis\":\"x\",\"y\":[142212,134865,118007,138297,129470,206512,50709,108794,68353,123266,309808,157946,80248,135708,173723,140510,122221,151917,235105,259999,211517,102068,128440,115659,145583,116289,238792,221925,310696,139079,109578,65325,89893,87588,132311,131411,158863,130490,88207,178767,148246,205073,185323,71904,82556,199684,122221,81762,84291,206512,105363,45004,62105,103508,157513,79893,88770,115312,118952,103861,112649,127385,153129,143808,133067,226742,98652,111394,101418,139219,115248,99574,224818,108459,107919,45904,83617,154723,101258,118949,128717,136379,124367,62938,172016,106524,147412,111221,75862,109578,119166,185318,104749,44674,80540,93773,109999,16858,114326,106524,160995,139079,59003,147425,144695,130229,119840,129723,133595,126311,167693,103958,155488,152112,228619,139435,161923,261011,120115,153013,298923,271791,126498,267731,181979,145663,128273,106524,101997,110963,147625,466044,116321,194880,143294,387652,240890,260460,90354,192694,102801,79567,101708,162913,75606,175874,159313,207237,205397,79116,161923,133155,159786,102405,114514,162006,93815,181140,137309,136551,107049,163524,181140,317120,77547,81762,147517,263226,163191,125920,164623,161562,163781,235152,120639,123834,76342,79982,69152,71647,140765,91792,134865,139079,244443,162091,263226,126010,173102,120639,139079,189654,89432,196317,209122,140602,170567,111875,225885,163652,119858,212830,142907,193524,189836,154432,248204,175514,297024,175514,201616,562546,172814,232894,169124,232219,247520,224928,294133,228806,170600,175784,229055,157513,308750,202157,241885,297380,119751,153129,156679,102086,149933,228375,261872,161118,190856,140701,368396,250976,180032,332888,177452,219262,254327,197105,166888,115401,208610,107892,143294,282373,239301,143210,379678,221263,111264,252872,172315,182068,94405,26130,308218,117164,173639,282289,198083,100306,181225,103677,86651,96934,130650,105843,114513,160426,105363,189995,104084,210081,137508,111436,74422,107912,123757,139800,77921,145123,104412,391842,118468,176698,63852,212103,146611,113444,47630,63101,51183,92436,114513,269063,127303,133612,137508,145147,107306,260228,104412,120476,118409,146611,85560,205498,163478,137540,116862,109633,156606,139418,122229,179524,111633,134266,130239,121680,199187,126311,265637,229915,161473,150909,287360,189912,109040,144561,90678,89955,122082,84333,144571,180803,198622,120192,163102,184515,189654,135820,150022,189776,196603,161839,202836,156797,222198,103262,253545,116170,112509,355529,204643,135011,106659,323819,135011,126010,216018,446436,133155,146471,329484,509488,110963,300931,255303,150909,184109,173446,127740,213048,114070,205947,209226,134378,113371,261301,218734,254944,143252,99463,123064,243305,212846,378465,263408,189654,357384,265515,168497,132088,130518,92519,229761,231298,152822,224888,244124,148989,236936,261031,246976,120476,168065,173794,213901,217797,171885,286474,174940,261647,138424,148967,200940,234429,476301,333411,247639,122796,279083,177124,160007,154798,373227,122257,165213,128040,120476,64174,124492,111534,114590,97783,64552,114238,57678,89232,72189,210081,126049,98790,103408,102806,159843,111353,234954,103256,81580,229180,116882,154238,100839,122257,128040,102806,236055,91672,130757,200793,202836,60238,40932,92519,148692,123910,103258,394532,187104,97476,125562,208048,334556,134933,178140,345364,285500,228904,207018,257015,160635,329221,136499,121279,240952,340545,176846,312448,314912,171885,225742,240639,236742,99311,136192,223266,133215,77650,150505,169343,115566,154528,218184,366772,199990,303599,94774,98389,110115,160349,75094,152404,154314,99311,110770,157370,148203,85585,137606,110889,96004,119001,74421,145123,163728,193497,73892,113367,162984,202800,84291,98632,155713,146626,92932,164419,218184,174208,200713,102003,85939,210672,98389,102806,111239,100397,117703,152786,87852,180670,55817,230708,93846,243276,226304,119784,108478,154696,198622,167776,84291,126436,129609,137127,277235,209555,101193,104084,99045,334556,186605,210646,230414,208253,104084,94584,233155,227994,115649,137044,261846,168739,236936,197581,297174,155414,141760,214367,146981,268260,69876,143768,130917,187701,240872,206415,191790,312434,217226,176618,152786,190983,99082,148585,129868,304045,265848,187087,220776,161190,184108,179524,244382,213137,244441,263938,271578,119937,504119,140945,236819,91672,93200,118409,180288,87852,237583,357138,198622,148967,133688,156530,178760,103633,182334,204661,74422,161496,89306,152491,160007,212103,171171,171171,162612,95260,130239,125029,137681,175084,328491,282655,292524,140658,215824,165957,177998,260887,325262,114827,96958,104339,146609,150798,207347,199900,133199,167253,97682,79170,112877,78191,110738,101227,69463,167319,151950,188497,108002,104371,69814,116938,200791,162631,166222,146978,156820,170534,209371,153590,124585,122044,224668,116589,179572,190444,213249,181399,193565,148231,337918,124669,167975,90446,101230,91386,149078,121973,123827,109259,473938,107766,578856,191746,146161,140238,506149,107513,157430,330219,432845,240857,251259,169647,205950,338596,268783,118585,113740,257499,152466,114519,247839,181516,138914,108421,107411,166019,93174,599701,231749,137220,279522,250723,452745,142057,111546,262461,492114,298549,156164,183657,160692,147634,236215,109249,139104,104328,104984,90446,142420,52360,113796,104267,129427,151950,172789,135526,148401,65615,283851,130782,135526,184315,146329,55851,111809,88092,26049,111702,232989,235620,119389,112153,202527,150502,188497,129155,117287,209371,99903,205950,127055,311709,142302,177539,277828,196512,104984,157411,202751,104984,155929,226705,271339,126082,113600,104556,167145,106365,238951,116589,170345,218517,97739,105035,233876,104651,212932,278906,160571,184315,100967,220261,189665,240590,169407,127394,222576,200510,155787,186348,217868,208635,82019,183066,236215,150849,178216,196846,135167,65550,143697,112153,163310,117907,49211,187003,135823,113514,102530,75975,128434,185487,126082,98333,104556,157081,92852,238951,242952,75399,220765,163992,233876,160571,251699,102626,203478,354739,184654,125361,237062,155787,236829,107743,210743,216841,118517,116795,158789,200126,178216,101375,103672,110234,206931,89893,31113,59043,94064,50483,253433,144335,54210,93895,130574,94486,109577,253973,326330,284154,115771,201876,99491,151950,278936,101230,223055,237716,180817,101230,181516,191988,183610,237367,296708,272902,196875,139627,129155,198969,205950,208743,112400,174534,106117,107743,154499,136203,379472,189736,308253,134171,120279,112825,251400,125361,94868,110182,180927,233714,172795,150772,329328,88092,187026,132138,163986,159920,150434,216530,262461,206688,190284,157476,347761,262461,194877,166335,193565,232934,108593,124013,100938,94064,109042,159175,94667,150434,149756,218475,172795,158565,60309,98256,238832,140269,98423,131165,93174,93895,213249,149078,155855,101375,260485,108958,228291,214749,256417,173082,295426,193774,100003,222330,197350,95708,249250,157055,102287,178851,95708,135901,44873,182056,205070,201928,108785,270841,185902,150581,479670,285769,247125,203240,207751,124939,80130,227314,199733,49564,106950,158338,169876,147440,208339,148496,197956,67951,121798,242955,455140,217314,141029,318121,153850,88092,124939,107973,119875,66027,182649,206480,107695,236737,154829,179492,189108],\"yaxis\":\"y\",\"type\":\"scattergl\"}],                        {\"template\":{\"data\":{\"bar\":[{\"error_x\":{\"color\":\"#2a3f5f\"},\"error_y\":{\"color\":\"#2a3f5f\"},\"marker\":{\"line\":{\"color\":\"#E5ECF6\",\"width\":0.5},\"pattern\":{\"fillmode\":\"overlay\",\"size\":10,\"solidity\":0.2}},\"type\":\"bar\"}],\"barpolar\":[{\"marker\":{\"line\":{\"color\":\"#E5ECF6\",\"width\":0.5},\"pattern\":{\"fillmode\":\"overlay\",\"size\":10,\"solidity\":0.2}},\"type\":\"barpolar\"}],\"carpet\":[{\"aaxis\":{\"endlinecolor\":\"#2a3f5f\",\"gridcolor\":\"white\",\"linecolor\":\"white\",\"minorgridcolor\":\"white\",\"startlinecolor\":\"#2a3f5f\"},\"baxis\":{\"endlinecolor\":\"#2a3f5f\",\"gridcolor\":\"white\",\"linecolor\":\"white\",\"minorgridcolor\":\"white\",\"startlinecolor\":\"#2a3f5f\"},\"type\":\"carpet\"}],\"choropleth\":[{\"colorbar\":{\"outlinewidth\":0,\"ticks\":\"\"},\"type\":\"choropleth\"}],\"contour\":[{\"colorbar\":{\"outlinewidth\":0,\"ticks\":\"\"},\"colorscale\":[[0.0,\"#0d0887\"],[0.1111111111111111,\"#46039f\"],[0.2222222222222222,\"#7201a8\"],[0.3333333333333333,\"#9c179e\"],[0.4444444444444444,\"#bd3786\"],[0.5555555555555556,\"#d8576b\"],[0.6666666666666666,\"#ed7953\"],[0.7777777777777778,\"#fb9f3a\"],[0.8888888888888888,\"#fdca26\"],[1.0,\"#f0f921\"]],\"type\":\"contour\"}],\"contourcarpet\":[{\"colorbar\":{\"outlinewidth\":0,\"ticks\":\"\"},\"type\":\"contourcarpet\"}],\"heatmap\":[{\"colorbar\":{\"outlinewidth\":0,\"ticks\":\"\"},\"colorscale\":[[0.0,\"#0d0887\"],[0.1111111111111111,\"#46039f\"],[0.2222222222222222,\"#7201a8\"],[0.3333333333333333,\"#9c179e\"],[0.4444444444444444,\"#bd3786\"],[0.5555555555555556,\"#d8576b\"],[0.6666666666666666,\"#ed7953\"],[0.7777777777777778,\"#fb9f3a\"],[0.8888888888888888,\"#fdca26\"],[1.0,\"#f0f921\"]],\"type\":\"heatmap\"}],\"heatmapgl\":[{\"colorbar\":{\"outlinewidth\":0,\"ticks\":\"\"},\"colorscale\":[[0.0,\"#0d0887\"],[0.1111111111111111,\"#46039f\"],[0.2222222222222222,\"#7201a8\"],[0.3333333333333333,\"#9c179e\"],[0.4444444444444444,\"#bd3786\"],[0.5555555555555556,\"#d8576b\"],[0.6666666666666666,\"#ed7953\"],[0.7777777777777778,\"#fb9f3a\"],[0.8888888888888888,\"#fdca26\"],[1.0,\"#f0f921\"]],\"type\":\"heatmapgl\"}],\"histogram\":[{\"marker\":{\"pattern\":{\"fillmode\":\"overlay\",\"size\":10,\"solidity\":0.2}},\"type\":\"histogram\"}],\"histogram2d\":[{\"colorbar\":{\"outlinewidth\":0,\"ticks\":\"\"},\"colorscale\":[[0.0,\"#0d0887\"],[0.1111111111111111,\"#46039f\"],[0.2222222222222222,\"#7201a8\"],[0.3333333333333333,\"#9c179e\"],[0.4444444444444444,\"#bd3786\"],[0.5555555555555556,\"#d8576b\"],[0.6666666666666666,\"#ed7953\"],[0.7777777777777778,\"#fb9f3a\"],[0.8888888888888888,\"#fdca26\"],[1.0,\"#f0f921\"]],\"type\":\"histogram2d\"}],\"histogram2dcontour\":[{\"colorbar\":{\"outlinewidth\":0,\"ticks\":\"\"},\"colorscale\":[[0.0,\"#0d0887\"],[0.1111111111111111,\"#46039f\"],[0.2222222222222222,\"#7201a8\"],[0.3333333333333333,\"#9c179e\"],[0.4444444444444444,\"#bd3786\"],[0.5555555555555556,\"#d8576b\"],[0.6666666666666666,\"#ed7953\"],[0.7777777777777778,\"#fb9f3a\"],[0.8888888888888888,\"#fdca26\"],[1.0,\"#f0f921\"]],\"type\":\"histogram2dcontour\"}],\"mesh3d\":[{\"colorbar\":{\"outlinewidth\":0,\"ticks\":\"\"},\"type\":\"mesh3d\"}],\"parcoords\":[{\"line\":{\"colorbar\":{\"outlinewidth\":0,\"ticks\":\"\"}},\"type\":\"parcoords\"}],\"pie\":[{\"automargin\":true,\"type\":\"pie\"}],\"scatter\":[{\"marker\":{\"colorbar\":{\"outlinewidth\":0,\"ticks\":\"\"}},\"type\":\"scatter\"}],\"scatter3d\":[{\"line\":{\"colorbar\":{\"outlinewidth\":0,\"ticks\":\"\"}},\"marker\":{\"colorbar\":{\"outlinewidth\":0,\"ticks\":\"\"}},\"type\":\"scatter3d\"}],\"scattercarpet\":[{\"marker\":{\"colorbar\":{\"outlinewidth\":0,\"ticks\":\"\"}},\"type\":\"scattercarpet\"}],\"scattergeo\":[{\"marker\":{\"colorbar\":{\"outlinewidth\":0,\"ticks\":\"\"}},\"type\":\"scattergeo\"}],\"scattergl\":[{\"marker\":{\"colorbar\":{\"outlinewidth\":0,\"ticks\":\"\"}},\"type\":\"scattergl\"}],\"scattermapbox\":[{\"marker\":{\"colorbar\":{\"outlinewidth\":0,\"ticks\":\"\"}},\"type\":\"scattermapbox\"}],\"scatterpolar\":[{\"marker\":{\"colorbar\":{\"outlinewidth\":0,\"ticks\":\"\"}},\"type\":\"scatterpolar\"}],\"scatterpolargl\":[{\"marker\":{\"colorbar\":{\"outlinewidth\":0,\"ticks\":\"\"}},\"type\":\"scatterpolargl\"}],\"scatterternary\":[{\"marker\":{\"colorbar\":{\"outlinewidth\":0,\"ticks\":\"\"}},\"type\":\"scatterternary\"}],\"surface\":[{\"colorbar\":{\"outlinewidth\":0,\"ticks\":\"\"},\"colorscale\":[[0.0,\"#0d0887\"],[0.1111111111111111,\"#46039f\"],[0.2222222222222222,\"#7201a8\"],[0.3333333333333333,\"#9c179e\"],[0.4444444444444444,\"#bd3786\"],[0.5555555555555556,\"#d8576b\"],[0.6666666666666666,\"#ed7953\"],[0.7777777777777778,\"#fb9f3a\"],[0.8888888888888888,\"#fdca26\"],[1.0,\"#f0f921\"]],\"type\":\"surface\"}],\"table\":[{\"cells\":{\"fill\":{\"color\":\"#EBF0F8\"},\"line\":{\"color\":\"white\"}},\"header\":{\"fill\":{\"color\":\"#C8D4E3\"},\"line\":{\"color\":\"white\"}},\"type\":\"table\"}]},\"layout\":{\"annotationdefaults\":{\"arrowcolor\":\"#2a3f5f\",\"arrowhead\":0,\"arrowwidth\":1},\"autotypenumbers\":\"strict\",\"coloraxis\":{\"colorbar\":{\"outlinewidth\":0,\"ticks\":\"\"}},\"colorscale\":{\"diverging\":[[0,\"#8e0152\"],[0.1,\"#c51b7d\"],[0.2,\"#de77ae\"],[0.3,\"#f1b6da\"],[0.4,\"#fde0ef\"],[0.5,\"#f7f7f7\"],[0.6,\"#e6f5d0\"],[0.7,\"#b8e186\"],[0.8,\"#7fbc41\"],[0.9,\"#4d9221\"],[1,\"#276419\"]],\"sequential\":[[0.0,\"#0d0887\"],[0.1111111111111111,\"#46039f\"],[0.2222222222222222,\"#7201a8\"],[0.3333333333333333,\"#9c179e\"],[0.4444444444444444,\"#bd3786\"],[0.5555555555555556,\"#d8576b\"],[0.6666666666666666,\"#ed7953\"],[0.7777777777777778,\"#fb9f3a\"],[0.8888888888888888,\"#fdca26\"],[1.0,\"#f0f921\"]],\"sequentialminus\":[[0.0,\"#0d0887\"],[0.1111111111111111,\"#46039f\"],[0.2222222222222222,\"#7201a8\"],[0.3333333333333333,\"#9c179e\"],[0.4444444444444444,\"#bd3786\"],[0.5555555555555556,\"#d8576b\"],[0.6666666666666666,\"#ed7953\"],[0.7777777777777778,\"#fb9f3a\"],[0.8888888888888888,\"#fdca26\"],[1.0,\"#f0f921\"]]},\"colorway\":[\"#636efa\",\"#EF553B\",\"#00cc96\",\"#ab63fa\",\"#FFA15A\",\"#19d3f3\",\"#FF6692\",\"#B6E880\",\"#FF97FF\",\"#FECB52\"],\"font\":{\"color\":\"#2a3f5f\"},\"geo\":{\"bgcolor\":\"white\",\"lakecolor\":\"white\",\"landcolor\":\"#E5ECF6\",\"showlakes\":true,\"showland\":true,\"subunitcolor\":\"white\"},\"hoverlabel\":{\"align\":\"left\"},\"hovermode\":\"closest\",\"mapbox\":{\"style\":\"light\"},\"paper_bgcolor\":\"white\",\"plot_bgcolor\":\"#E5ECF6\",\"polar\":{\"angularaxis\":{\"gridcolor\":\"white\",\"linecolor\":\"white\",\"ticks\":\"\"},\"bgcolor\":\"#E5ECF6\",\"radialaxis\":{\"gridcolor\":\"white\",\"linecolor\":\"white\",\"ticks\":\"\"}},\"scene\":{\"xaxis\":{\"backgroundcolor\":\"#E5ECF6\",\"gridcolor\":\"white\",\"gridwidth\":2,\"linecolor\":\"white\",\"showbackground\":true,\"ticks\":\"\",\"zerolinecolor\":\"white\"},\"yaxis\":{\"backgroundcolor\":\"#E5ECF6\",\"gridcolor\":\"white\",\"gridwidth\":2,\"linecolor\":\"white\",\"showbackground\":true,\"ticks\":\"\",\"zerolinecolor\":\"white\"},\"zaxis\":{\"backgroundcolor\":\"#E5ECF6\",\"gridcolor\":\"white\",\"gridwidth\":2,\"linecolor\":\"white\",\"showbackground\":true,\"ticks\":\"\",\"zerolinecolor\":\"white\"}},\"shapedefaults\":{\"line\":{\"color\":\"#2a3f5f\"}},\"ternary\":{\"aaxis\":{\"gridcolor\":\"white\",\"linecolor\":\"white\",\"ticks\":\"\"},\"baxis\":{\"gridcolor\":\"white\",\"linecolor\":\"white\",\"ticks\":\"\"},\"bgcolor\":\"#E5ECF6\",\"caxis\":{\"gridcolor\":\"white\",\"linecolor\":\"white\",\"ticks\":\"\"}},\"title\":{\"x\":0.05},\"xaxis\":{\"automargin\":true,\"gridcolor\":\"white\",\"linecolor\":\"white\",\"ticks\":\"\",\"title\":{\"standoff\":15},\"zerolinecolor\":\"white\",\"zerolinewidth\":2},\"yaxis\":{\"automargin\":true,\"gridcolor\":\"white\",\"linecolor\":\"white\",\"ticks\":\"\",\"title\":{\"standoff\":15},\"zerolinecolor\":\"white\",\"zerolinewidth\":2}}},\"xaxis\":{\"anchor\":\"y\",\"domain\":[0.0,1.0],\"title\":{\"text\":\"Area\"},\"showgrid\":true,\"gridwidth\":1,\"gridcolor\":\"lightgrey\",\"zeroline\":true,\"zerolinewidth\":1,\"zerolinecolor\":\"lightgrey\",\"showline\":true,\"linewidth\":1,\"linecolor\":\"black\"},\"yaxis\":{\"anchor\":\"x\",\"domain\":[0.0,1.0],\"title\":{\"text\":\"Price\"},\"showgrid\":true,\"gridwidth\":1,\"gridcolor\":\"lightgrey\",\"zeroline\":true,\"zerolinewidth\":1,\"zerolinecolor\":\"lightgrey\",\"showline\":true,\"linewidth\":1,\"linecolor\":\"black\"},\"legend\":{\"tracegroupgap\":0},\"margin\":{\"t\":60},\"plot_bgcolor\":\"white\"},                        {\"responsive\": true}                    ).then(function(){\n",
              "                            \n",
              "var gd = document.getElementById('d2447803-1e8f-412b-b218-c0e87ab58040');\n",
              "var x = new MutationObserver(function (mutations, observer) {{\n",
              "        var display = window.getComputedStyle(gd).display;\n",
              "        if (!display || display === 'none') {{\n",
              "            console.log([gd, 'removed!']);\n",
              "            Plotly.purge(gd);\n",
              "            observer.disconnect();\n",
              "        }}\n",
              "}});\n",
              "\n",
              "// Listen for the removal of the full notebook cells\n",
              "var notebookContainer = gd.closest('#notebook-container');\n",
              "if (notebookContainer) {{\n",
              "    x.observe(notebookContainer, {childList: true});\n",
              "}}\n",
              "\n",
              "// Listen for the clearing of the current output cell\n",
              "var outputEl = gd.closest('.output');\n",
              "if (outputEl) {{\n",
              "    x.observe(outputEl, {childList: true});\n",
              "}}\n",
              "\n",
              "                        })                };                            </script>        </div>\n",
              "</body>\n",
              "</html>"
            ]
          },
          "metadata": {}
        }
      ]
    },
    {
      "cell_type": "code",
      "source": [
        "# ------- Select variables -------\n",
        "# Note, we need X to be a 2D array, hence reshape\n",
        "X=df['Area'].values.reshape(-1,1)\n",
        "y=df['Price'].values"
      ],
      "metadata": {
        "id": "AHX5tH-gCE86"
      },
      "execution_count": null,
      "outputs": []
    },
    {
      "cell_type": "code",
      "source": [
        "# ------- Linear regression -------\n",
        "model1 = LinearRegression()\n",
        "lr = model1.fit(X, y)"
      ],
      "metadata": {
        "id": "bJgr9qmbCIka"
      },
      "execution_count": null,
      "outputs": []
    },
    {
      "cell_type": "code",
      "source": [
        "from sklearn.model_selection import train_test_split\n",
        "X_train, X_test, y_train, y_test = train_test_split(X, y, test_size=0.8)\n"
      ],
      "metadata": {
        "id": "fiMhj0WLCJbT"
      },
      "execution_count": null,
      "outputs": []
    },
    {
      "cell_type": "code",
      "source": [
        "# ------- Support Vector regression -------\n",
        "model2 = SVR(kernel='rbf', C=1000010, epsilon=10) # set kernel and hyperparameters C \n",
        "svr = model2.fit(X, y)"
      ],
      "metadata": {
        "id": "pJ41ZSKsCKRg"
      },
      "execution_count": null,
      "outputs": []
    },
    {
      "cell_type": "code",
      "source": [
        "# ------- Predict a range of values based on the models for visualization -------\n",
        "# Create 100 evenly spaced points from smallest X to largest X\n",
        "x_range = np.linspace(X.min(), X.max(), 100)"
      ],
      "metadata": {
        "id": "Pi_-RkYmCLPl"
      },
      "execution_count": null,
      "outputs": []
    },
    {
      "cell_type": "code",
      "source": [
        "# Predict y values for our set of X values\n",
        "y_lr = model1.predict(x_range.reshape(-1, 1)) # Linear regression\n",
        "y_svr = model2.predict(x_range.reshape(-1, 1)) # SVR"
      ],
      "metadata": {
        "id": "Pc0dUOIdCNGZ"
      },
      "execution_count": null,
      "outputs": []
    },
    {
      "cell_type": "code",
      "source": [
        "# Create a scatter plot\n",
        "fig = px.scatter(df, x=df['Area'], y=df['Price'], \n",
        "                 opacity=0.8, color_discrete_sequence=['black'])"
      ],
      "metadata": {
        "id": "8_c4i17rCOUn"
      },
      "execution_count": null,
      "outputs": []
    },
    {
      "cell_type": "code",
      "source": [
        "# Add a best-fit line\n",
        "fig.add_traces(go.Scatter(x=x_range, y=y_lr, name='Linear Regression', line=dict(color='limegreen')))\n",
        "fig.add_traces(go.Scatter(x=x_range, y=y_svr, name='Support Vector Regression', line=dict(color='red')))\n",
        "fig.add_traces(go.Scatter(x=x_range, y=y_svr+10, name='+epsilon', line=dict(color='red', dash='dot')))\n",
        "fig.add_traces(go.Scatter(x=x_range, y=y_svr-10, name='-epsilon', line=dict(color='red', dash='dot')))\n",
        "# Change chart background color\n",
        "fig.update_layout(dict(plot_bgcolor = 'white'))\n",
        "\n",
        "# Update axes lines\n",
        "fig.update_xaxes(showgrid=True, gridwidth=1, gridcolor='lightgrey', \n",
        "                 zeroline=True, zerolinewidth=1, zerolinecolor='lightgrey', \n",
        "                 showline=True, linewidth=1, linecolor='black')\n",
        "\n",
        "fig.update_yaxes(showgrid=True, gridwidth=1, gridcolor='lightgrey', \n",
        "                 zeroline=True, zerolinewidth=1, zerolinecolor='lightgrey', \n",
        "                 showline=True, linewidth=1, linecolor='black')"
      ],
      "metadata": {
        "colab": {
          "base_uri": "https://localhost:8080/",
          "height": 542
        },
        "id": "QWgAmgJfCPK8",
        "outputId": "0a3106c6-9708-4863-d873-984d98e9ccf2"
      },
      "execution_count": null,
      "outputs": [
        {
          "output_type": "display_data",
          "data": {
            "text/html": [
              "<html>\n",
              "<head><meta charset=\"utf-8\" /></head>\n",
              "<body>\n",
              "    <div>            <script src=\"https://cdnjs.cloudflare.com/ajax/libs/mathjax/2.7.5/MathJax.js?config=TeX-AMS-MML_SVG\"></script><script type=\"text/javascript\">if (window.MathJax) {MathJax.Hub.Config({SVG: {font: \"STIX-Web\"}});}</script>                <script type=\"text/javascript\">window.PlotlyConfig = {MathJaxConfig: 'local'};</script>\n",
              "        <script src=\"https://cdn.plot.ly/plotly-2.8.3.min.js\"></script>                <div id=\"311c572a-f16a-43be-aeee-126ac871026c\" class=\"plotly-graph-div\" style=\"height:525px; width:100%;\"></div>            <script type=\"text/javascript\">                                    window.PLOTLYENV=window.PLOTLYENV || {};                                    if (document.getElementById(\"311c572a-f16a-43be-aeee-126ac871026c\")) {                    Plotly.newPlot(                        \"311c572a-f16a-43be-aeee-126ac871026c\",                        [{\"hovertemplate\":\"Area=%{x}<br>Price=%{y}<extra></extra>\",\"legendgroup\":\"\",\"marker\":{\"color\":\"black\",\"opacity\":0.8,\"symbol\":\"circle\"},\"mode\":\"markers\",\"name\":\"\",\"showlegend\":false,\"x\":[1982,1676,1694,1800,2088,1456,960,1464,1216,1632,2270,1804,1600,1460,1548,1590,1170,1510,2299,2577,2328,1172,1554,1242,1376,1107,2250,2472,2843,1400,1342,813,1480,1392,1512,1512,1696,1595,1480,2291,1391,2501,1662,957,1480,2275,1440,1008,1480,2116,1100,960,1228,1560,2164,2634,1000,912,1572,1700,1350,1416,1560,1572,1326,1989,1158,1272,1852,2308,1700,1628,2738,1292,1056,1328,1272,1944,1232,1164,1215,1486,1272,1064,1547,1148,1821,1056,995,1176,912,1500,1852,1214,1380,1324,1218,1629,1053,1308,1344,1608,3285,1582,1642,1248,1411,1593,1666,1471,1876,1486,1747,1512,2527,1666,1456,3015,967,1720,3515,2815,720,3001,1822,1666,1343,1144,1214,1888,1668,3853,1486,2278,1360,3504,1921,3726,912,2079,1184,908,1492,2011,912,2195,1561,2656,2425,908,1158,1334,1561,1680,1514,1656,1184,2648,1092,1880,1592,2516,2310,3076,908,912,1680,3355,1886,1605,1772,2044,1124,3192,1498,1092,896,1572,986,2087,1596,908,1500,1719,2810,1806,3355,1760,1896,1498,1248,2320,1132,2359,3476,1693,1585,1758,2524,1908,1476,2266,1920,1730,1726,1644,1908,2475,3020,2310,2119,5228,2056,2500,2576,2541,2445,2185,3981,2577,1728,1837,2500,1910,2958,2564,2604,2906,1480,1872,1911,1302,1664,2512,2380,1887,2086,1554,3358,2394,2066,3111,2402,2327,2541,1894,1740,1480,1752,1375,1918,2793,2619,1744,3720,2000,1142,2612,2008,2035,1375,822,3597,1536,1910,3017,1971,1314,1944,1375,1140,1480,2110,972,960,2262,864,2150,1170,1596,1530,1380,1708,1308,1416,1900,1704,1372,1480,3003,1298,1772,1536,1400,1580,1656,1235,1628,1144,1300,1560,3319,1210,1768,1164,1832,1276,2092,2116,1248,2128,1056,2068,3069,2334,1551,1456,775,1756,1296,1404,1632,1564,1501,1586,1412,2223,1370,3030,2103,1560,1512,3133,2316,1198,1292,957,1216,2256,2043,1512,1570,1616,1404,1552,1472,2367,1475,1632,1964,2064,1601,2284,1672,2495,1176,1498,1272,1138,2186,1743,2488,936,2592,1327,864,1216,3467,1480,892,2786,3530,1568,847,2242,1374,1920,2124,1480,2022,1098,1224,2550,1279,1177,1859,2219,2579,1568,912,1209,2242,2270,3457,1738,1334,2322,1870,1888,1368,1200,1368,2230,1800,1043,1200,2346,792,2300,2280,1652,2238,1016,1970,1680,1386,1550,2058,1126,1850,1673,2208,1116,1470,2986,3356,1016,1612,1908,1064,2078,2470,2058,1400,1664,1488,1120,672,1164,1032,1736,1061,1298,1164,924,960,1594,2008,1268,1480,1034,1480,1350,1248,2294,1492,1336,2310,1542,1984,1480,1856,1688,1248,2405,1392,1394,1940,2068,1664,1320,1281,1397,1620,1344,3361,2040,1219,1253,1876,3296,1496,2200,3308,3328,1824,2147,2093,1336,2934,1152,1348,2376,2926,2249,2919,3423,1536,2216,2572,2412,1281,1623,2619,1364,1620,1785,1796,1184,1785,2655,3200,2011,3329,1240,1184,1385,1732,728,1508,1466,690,911,1656,1782,912,1508,1266,912,1506,1928,1536,1811,1948,864,1760,1872,2250,924,1406,3535,1561,988,1785,2655,2372,2504,1184,1527,1764,1184,1168,912,912,1492,1508,1270,2310,1688,2548,1385,3271,1921,1560,1840,1704,1971,3106,924,1216,1635,1892,2950,2539,1375,1302,937,3376,2328,1994,2623,2602,1480,924,3236,1973,1422,1352,2772,1620,2500,1702,2748,2310,1740,2500,1832,2657,976,1612,1456,1992,2348,2676,2304,3440,2593,2162,1578,2088,924,1734,1792,2960,2993,2027,2421,1758,2702,2600,2572,2498,2396,2641,3123,2028,3721,1873,2608,929,924,1227,2294,976,2762,2618,2024,1864,1780,1734,2014,1314,2262,1927,2708,1910,1480,1875,1665,2170,1822,1784,1348,1480,1052,1836,1728,2214,2733,2931,2900,2254,2056,1212,2564,2176,3496,1332,1244,1290,1989,1212,2119,1808,1716,1872,1548,1536,1380,1080,1800,1754,1170,2088,1890,1742,1544,1463,840,988,1680,1804,1498,1656,1720,1820,2076,1820,1468,1637,2526,1322,1736,1836,1643,1842,2167,1475,3026,1092,2311,1256,1040,1120,1664,2268,1302,1239,780,1272,2472,1666,984,1322,2586,1008,1092,2576,3250,1445,1932,1430,1474,1908,2329,936,1920,1675,1600,1428,1536,1924,1576,1288,840,1110,784,5114,1980,1290,2000,2490,1764,952,1560,2932,2563,2310,1792,1250,1500,864,1392,812,1760,898,1096,1200,2016,1310,960,1056,1512,1890,1812,1952,1856,924,2346,1274,1420,2296,2026,990,1711,3944,1344,878,2248,2107,1364,1270,2120,1668,2110,1242,1040,2084,1360,2024,1019,3028,1242,1528,2988,1428,1144,1666,2202,1184,2601,2510,3056,1592,1240,1673,1852,1184,2641,1184,1952,2038,1276,908,2434,912,2494,2960,1294,2152,988,2712,2203,3001,2310,2040,3144,1806,1540,2011,3344,2714,1518,1836,2066,1423,1512,2144,1610,1196,1376,1834,1720,1295,800,1868,1946,1142,1202,1300,1508,2271,1592,912,1673,2310,912,2641,1708,988,2058,2310,2434,1612,3081,1227,2762,3982,2212,1173,2604,1540,2472,1184,2120,2472,1592,1404,3344,1690,1512,1820,1476,1652,2331,960,1540,1668,912,743,3021,1274,792,960,1600,1150,1456,2464,1326,2808,1479,2498,1064,1792,3121,1032,2668,2996,1815,1281,2204,2096,2570,2936,3210,3020,2086,1980,1260,1938,2284,1804,1375,2226,1480,1228,1886,1479,3440,2588,2880,2133,1056,1314,2741,1326,1380,1480,2050,2338,1910,1652,3542,929,1831,1468,2039,1794,1666,2388,2505,2284,1879,1664,3820,2809,2066,1664,2350,2116,1480,1524,1034,1480,880,1512,912,1611,1470,2748,1512,1512,2039,1480,2872,1244,1355,1564,1022,1480,1904,1592,1332,960,2143,1514,1986,2286,2752,1656,3370,1932,1184,2712,2500,912,2604,1836,882,2002,912,1508,882,2396,2460,2322,1480,2306,2756,1664,3956,3125,2835,2464,2628,1099,1225,2764,840,1363,1472,1836,1774,1590,2109,1470,2314,1040,1308,1954,1764,2498,1874,2892,2400,1572,1678,1388,1512,1653,1758,2310,1802,3239,1440,2030,2097],\"xaxis\":\"x\",\"y\":[142212,134865,118007,138297,129470,206512,50709,108794,68353,123266,309808,157946,80248,135708,173723,140510,122221,151917,235105,259999,211517,102068,128440,115659,145583,116289,238792,221925,310696,139079,109578,65325,89893,87588,132311,131411,158863,130490,88207,178767,148246,205073,185323,71904,82556,199684,122221,81762,84291,206512,105363,45004,62105,103508,157513,79893,88770,115312,118952,103861,112649,127385,153129,143808,133067,226742,98652,111394,101418,139219,115248,99574,224818,108459,107919,45904,83617,154723,101258,118949,128717,136379,124367,62938,172016,106524,147412,111221,75862,109578,119166,185318,104749,44674,80540,93773,109999,16858,114326,106524,160995,139079,59003,147425,144695,130229,119840,129723,133595,126311,167693,103958,155488,152112,228619,139435,161923,261011,120115,153013,298923,271791,126498,267731,181979,145663,128273,106524,101997,110963,147625,466044,116321,194880,143294,387652,240890,260460,90354,192694,102801,79567,101708,162913,75606,175874,159313,207237,205397,79116,161923,133155,159786,102405,114514,162006,93815,181140,137309,136551,107049,163524,181140,317120,77547,81762,147517,263226,163191,125920,164623,161562,163781,235152,120639,123834,76342,79982,69152,71647,140765,91792,134865,139079,244443,162091,263226,126010,173102,120639,139079,189654,89432,196317,209122,140602,170567,111875,225885,163652,119858,212830,142907,193524,189836,154432,248204,175514,297024,175514,201616,562546,172814,232894,169124,232219,247520,224928,294133,228806,170600,175784,229055,157513,308750,202157,241885,297380,119751,153129,156679,102086,149933,228375,261872,161118,190856,140701,368396,250976,180032,332888,177452,219262,254327,197105,166888,115401,208610,107892,143294,282373,239301,143210,379678,221263,111264,252872,172315,182068,94405,26130,308218,117164,173639,282289,198083,100306,181225,103677,86651,96934,130650,105843,114513,160426,105363,189995,104084,210081,137508,111436,74422,107912,123757,139800,77921,145123,104412,391842,118468,176698,63852,212103,146611,113444,47630,63101,51183,92436,114513,269063,127303,133612,137508,145147,107306,260228,104412,120476,118409,146611,85560,205498,163478,137540,116862,109633,156606,139418,122229,179524,111633,134266,130239,121680,199187,126311,265637,229915,161473,150909,287360,189912,109040,144561,90678,89955,122082,84333,144571,180803,198622,120192,163102,184515,189654,135820,150022,189776,196603,161839,202836,156797,222198,103262,253545,116170,112509,355529,204643,135011,106659,323819,135011,126010,216018,446436,133155,146471,329484,509488,110963,300931,255303,150909,184109,173446,127740,213048,114070,205947,209226,134378,113371,261301,218734,254944,143252,99463,123064,243305,212846,378465,263408,189654,357384,265515,168497,132088,130518,92519,229761,231298,152822,224888,244124,148989,236936,261031,246976,120476,168065,173794,213901,217797,171885,286474,174940,261647,138424,148967,200940,234429,476301,333411,247639,122796,279083,177124,160007,154798,373227,122257,165213,128040,120476,64174,124492,111534,114590,97783,64552,114238,57678,89232,72189,210081,126049,98790,103408,102806,159843,111353,234954,103256,81580,229180,116882,154238,100839,122257,128040,102806,236055,91672,130757,200793,202836,60238,40932,92519,148692,123910,103258,394532,187104,97476,125562,208048,334556,134933,178140,345364,285500,228904,207018,257015,160635,329221,136499,121279,240952,340545,176846,312448,314912,171885,225742,240639,236742,99311,136192,223266,133215,77650,150505,169343,115566,154528,218184,366772,199990,303599,94774,98389,110115,160349,75094,152404,154314,99311,110770,157370,148203,85585,137606,110889,96004,119001,74421,145123,163728,193497,73892,113367,162984,202800,84291,98632,155713,146626,92932,164419,218184,174208,200713,102003,85939,210672,98389,102806,111239,100397,117703,152786,87852,180670,55817,230708,93846,243276,226304,119784,108478,154696,198622,167776,84291,126436,129609,137127,277235,209555,101193,104084,99045,334556,186605,210646,230414,208253,104084,94584,233155,227994,115649,137044,261846,168739,236936,197581,297174,155414,141760,214367,146981,268260,69876,143768,130917,187701,240872,206415,191790,312434,217226,176618,152786,190983,99082,148585,129868,304045,265848,187087,220776,161190,184108,179524,244382,213137,244441,263938,271578,119937,504119,140945,236819,91672,93200,118409,180288,87852,237583,357138,198622,148967,133688,156530,178760,103633,182334,204661,74422,161496,89306,152491,160007,212103,171171,171171,162612,95260,130239,125029,137681,175084,328491,282655,292524,140658,215824,165957,177998,260887,325262,114827,96958,104339,146609,150798,207347,199900,133199,167253,97682,79170,112877,78191,110738,101227,69463,167319,151950,188497,108002,104371,69814,116938,200791,162631,166222,146978,156820,170534,209371,153590,124585,122044,224668,116589,179572,190444,213249,181399,193565,148231,337918,124669,167975,90446,101230,91386,149078,121973,123827,109259,473938,107766,578856,191746,146161,140238,506149,107513,157430,330219,432845,240857,251259,169647,205950,338596,268783,118585,113740,257499,152466,114519,247839,181516,138914,108421,107411,166019,93174,599701,231749,137220,279522,250723,452745,142057,111546,262461,492114,298549,156164,183657,160692,147634,236215,109249,139104,104328,104984,90446,142420,52360,113796,104267,129427,151950,172789,135526,148401,65615,283851,130782,135526,184315,146329,55851,111809,88092,26049,111702,232989,235620,119389,112153,202527,150502,188497,129155,117287,209371,99903,205950,127055,311709,142302,177539,277828,196512,104984,157411,202751,104984,155929,226705,271339,126082,113600,104556,167145,106365,238951,116589,170345,218517,97739,105035,233876,104651,212932,278906,160571,184315,100967,220261,189665,240590,169407,127394,222576,200510,155787,186348,217868,208635,82019,183066,236215,150849,178216,196846,135167,65550,143697,112153,163310,117907,49211,187003,135823,113514,102530,75975,128434,185487,126082,98333,104556,157081,92852,238951,242952,75399,220765,163992,233876,160571,251699,102626,203478,354739,184654,125361,237062,155787,236829,107743,210743,216841,118517,116795,158789,200126,178216,101375,103672,110234,206931,89893,31113,59043,94064,50483,253433,144335,54210,93895,130574,94486,109577,253973,326330,284154,115771,201876,99491,151950,278936,101230,223055,237716,180817,101230,181516,191988,183610,237367,296708,272902,196875,139627,129155,198969,205950,208743,112400,174534,106117,107743,154499,136203,379472,189736,308253,134171,120279,112825,251400,125361,94868,110182,180927,233714,172795,150772,329328,88092,187026,132138,163986,159920,150434,216530,262461,206688,190284,157476,347761,262461,194877,166335,193565,232934,108593,124013,100938,94064,109042,159175,94667,150434,149756,218475,172795,158565,60309,98256,238832,140269,98423,131165,93174,93895,213249,149078,155855,101375,260485,108958,228291,214749,256417,173082,295426,193774,100003,222330,197350,95708,249250,157055,102287,178851,95708,135901,44873,182056,205070,201928,108785,270841,185902,150581,479670,285769,247125,203240,207751,124939,80130,227314,199733,49564,106950,158338,169876,147440,208339,148496,197956,67951,121798,242955,455140,217314,141029,318121,153850,88092,124939,107973,119875,66027,182649,206480,107695,236737,154829,179492,189108],\"yaxis\":\"y\",\"type\":\"scattergl\"},{\"line\":{\"color\":\"limegreen\"},\"name\":\"Linear Regression\",\"x\":[672.0,718.0202020202021,764.040404040404,810.060606060606,856.0808080808081,902.1010101010102,948.1212121212121,994.1414141414141,1040.1616161616162,1086.1818181818182,1132.2020202020203,1178.2222222222222,1224.2424242424242,1270.2626262626263,1316.2828282828282,1362.3030303030303,1408.3232323232323,1454.3434343434344,1500.3636363636365,1546.3838383838383,1592.4040404040404,1638.4242424242425,1684.4444444444443,1730.4646464646464,1776.4848484848485,1822.5050505050506,1868.5252525252527,1914.5454545454545,1960.5656565656566,2006.5858585858587,2052.6060606060605,2098.6262626262624,2144.6464646464647,2190.666666666667,2236.686868686869,2282.7070707070707,2328.727272727273,2374.747474747475,2420.7676767676767,2466.787878787879,2512.808080808081,2558.8282828282827,2604.848484848485,2650.868686868687,2696.8888888888887,2742.909090909091,2788.929292929293,2834.949494949495,2880.969696969697,2926.989898989899,2973.010101010101,3019.030303030303,3065.0505050505053,3111.070707070707,3157.090909090909,3203.1111111111113,3249.131313131313,3295.151515151515,3341.1717171717173,3387.191919191919,3433.212121212121,3479.2323232323233,3525.252525252525,3571.2727272727275,3617.2929292929293,3663.313131313131,3709.3333333333335,3755.3535353535353,3801.3737373737376,3847.3939393939395,3893.4141414141413,3939.4343434343436,3985.4545454545455,4031.4747474747473,4077.4949494949497,4123.515151515152,4169.535353535353,4215.555555555556,4261.575757575758,4307.595959595959,4353.616161616162,4399.636363636364,4445.656565656565,4491.676767676768,4537.69696969697,4583.717171717171,4629.737373737374,4675.757575757576,4721.777777777777,4767.79797979798,4813.818181818182,4859.838383838384,4905.858585858586,4951.878787878788,4997.89898989899,5043.919191919192,5089.939393939394,5135.959595959596,5181.979797979798,5228.0],\"y\":[66577.22626843551,70640.83375745048,74704.44124646543,78768.04873548039,82831.65622449535,86895.26371351031,90958.87120252528,95022.47869154022,99086.08618055518,103149.69366957016,107213.30115858512,111276.90864760007,115340.51613661503,119404.12362562999,123467.73111464494,127531.3386036599,131594.94609267486,135658.55358168983,139722.1610707048,143785.76855971976,147849.3760487347,151912.98353774968,155976.59102676462,160040.19851577957,164103.80600479455,168167.41349380952,172231.02098282447,176294.62847183942,180358.2359608544,184421.84344986934,188485.45093888429,192549.05842789923,196612.66591691424,200676.2734059292,204739.88089494416,208803.4883839591,212867.09587297408,216930.70336198903,220994.31085100397,225057.91834001895,229121.5258290339,233185.13331804884,237248.74080706385,241312.3482960788,245375.9557850937,249439.56327410872,253503.17076312366,257566.77825213864,261630.3857411536,265693.99323016853,269757.60071918357,273821.2082081984,277884.8156972134,281948.4231862284,286012.03067524335,290075.63816425833,294139.2456532733,298202.85314228816,302266.46063130314,306330.0681203181,310393.6756093331,314457.28309834807,318520.89058736304,322584.498076378,326648.105565393,330711.71305440785,334775.32054342283,338838.9280324378,342902.5355214528,346966.14301046776,351029.75049948273,355093.3579884977,359156.96547751257,363220.57296652754,367284.1804555425,371347.7879445575,375411.39543357247,379475.00292258745,383538.6104116024,387602.2179006173,391665.82538963226,395729.43287864723,399793.0403676622,403856.6478566772,407920.25534569216,411983.862834707,416047.4703237221,420111.0778127371,424174.68530175195,428238.2927907669,432301.9002797819,436365.5077687969,440429.11525781185,444492.7227468268,448556.3302358418,452619.93772485666,456683.54521387164,460747.1527028866,464810.7601919016,468874.36768091656],\"type\":\"scatter\"},{\"line\":{\"color\":\"red\"},\"name\":\"Support Vector Regression\",\"x\":[672.0,718.0202020202021,764.040404040404,810.060606060606,856.0808080808081,902.1010101010102,948.1212121212121,994.1414141414141,1040.1616161616162,1086.1818181818182,1132.2020202020203,1178.2222222222222,1224.2424242424242,1270.2626262626263,1316.2828282828282,1362.3030303030303,1408.3232323232323,1454.3434343434344,1500.3636363636365,1546.3838383838383,1592.4040404040404,1638.4242424242425,1684.4444444444443,1730.4646464646464,1776.4848484848485,1822.5050505050506,1868.5252525252527,1914.5454545454545,1960.5656565656566,2006.5858585858587,2052.6060606060605,2098.6262626262624,2144.6464646464647,2190.666666666667,2236.686868686869,2282.7070707070707,2328.727272727273,2374.747474747475,2420.7676767676767,2466.787878787879,2512.808080808081,2558.8282828282827,2604.848484848485,2650.868686868687,2696.8888888888887,2742.909090909091,2788.929292929293,2834.949494949495,2880.969696969697,2926.989898989899,2973.010101010101,3019.030303030303,3065.0505050505053,3111.070707070707,3157.090909090909,3203.1111111111113,3249.131313131313,3295.151515151515,3341.1717171717173,3387.191919191919,3433.212121212121,3479.2323232323233,3525.252525252525,3571.2727272727275,3617.2929292929293,3663.313131313131,3709.3333333333335,3755.3535353535353,3801.3737373737376,3847.3939393939395,3893.4141414141413,3939.4343434343436,3985.4545454545455,4031.4747474747473,4077.4949494949497,4123.515151515152,4169.535353535353,4215.555555555556,4261.575757575758,4307.595959595959,4353.616161616162,4399.636363636364,4445.656565656565,4491.676767676768,4537.69696969697,4583.717171717171,4629.737373737374,4675.757575757576,4721.777777777777,4767.79797979798,4813.818181818182,4859.838383838384,4905.858585858586,4951.878787878788,4997.89898989899,5043.919191919192,5089.939393939394,5135.959595959596,5181.979797979798,5228.0],\"y\":[92362.1618541925,92135.51573535945,92715.00562692451,93890.28471247578,95460.04474722865,97249.0209641541,99121.20937275238,100987.92030163103,102809.97877138155,104594.16765367624,106384.77347503137,108251.71642608222,110277.12572631406,112542.29869825096,115116.74856836867,118050.54918055772,121370.51945997187,125080.0825914137,129162.01792227599,133582.91263741837,138297.9889622826,143255.14797161688,148397.48882692825,153664.1350890961,158989.79618417524,164303.97318152472,169530.96628452797,174591.78631499963,179408.70709365833,183912.58084938192,188052.29372971941,191805.0186146999,195185.3895840714,198251.51213003806,201105.91610221687,203890.16079361347,206772.7400782563,209931.06630382402,213529.44372454967,217695.8703265576,222501.04814779985,227943.01037347346,233940.24401541793,240335.14833079587,246908.25832429057,253402.08526842023,259551.9240864218,265119.78993118036,269926.9707102958,273880.64125549106,276990.6052664401,279373.43890216824,281242.94046480686,282887.61445052084,284637.67602775234,286825.5043564372,289744.398043717,293610.7681049784,298534.51121185377,304501.3024482822,311369.0790084702,318879.25969537615,326681.49191598204,334369.1629582608,341521.7421701983,347749.3600698123,352734.9298275658,356269.5509817938,358277.81401792745,358830.8094150746,358145.97331055434,356574.21092679456,354575.8860455429,352688.14449079253,351486.5916321558,351544.5549476192,353393.0607276673,357484.2982892019,364160.8130589431,373632.04392703465,385959.1758764398,401048.6761555288,418654.36116766254,438387.4209713307,459733.5098723526,482075.7830908481,504722.60220396507,526938.5267361004,547977.1410724231,567114.2275463655,583679.7892702885,597087.4583752465,606859.9093127504,612649.0454491907,614249.9490670402,611607.88126284,604817.9805046134,594117.7178578831,579872.5951357427,562555.9853558703],\"type\":\"scatter\"},{\"line\":{\"color\":\"red\",\"dash\":\"dot\"},\"name\":\"+epsilon\",\"x\":[672.0,718.0202020202021,764.040404040404,810.060606060606,856.0808080808081,902.1010101010102,948.1212121212121,994.1414141414141,1040.1616161616162,1086.1818181818182,1132.2020202020203,1178.2222222222222,1224.2424242424242,1270.2626262626263,1316.2828282828282,1362.3030303030303,1408.3232323232323,1454.3434343434344,1500.3636363636365,1546.3838383838383,1592.4040404040404,1638.4242424242425,1684.4444444444443,1730.4646464646464,1776.4848484848485,1822.5050505050506,1868.5252525252527,1914.5454545454545,1960.5656565656566,2006.5858585858587,2052.6060606060605,2098.6262626262624,2144.6464646464647,2190.666666666667,2236.686868686869,2282.7070707070707,2328.727272727273,2374.747474747475,2420.7676767676767,2466.787878787879,2512.808080808081,2558.8282828282827,2604.848484848485,2650.868686868687,2696.8888888888887,2742.909090909091,2788.929292929293,2834.949494949495,2880.969696969697,2926.989898989899,2973.010101010101,3019.030303030303,3065.0505050505053,3111.070707070707,3157.090909090909,3203.1111111111113,3249.131313131313,3295.151515151515,3341.1717171717173,3387.191919191919,3433.212121212121,3479.2323232323233,3525.252525252525,3571.2727272727275,3617.2929292929293,3663.313131313131,3709.3333333333335,3755.3535353535353,3801.3737373737376,3847.3939393939395,3893.4141414141413,3939.4343434343436,3985.4545454545455,4031.4747474747473,4077.4949494949497,4123.515151515152,4169.535353535353,4215.555555555556,4261.575757575758,4307.595959595959,4353.616161616162,4399.636363636364,4445.656565656565,4491.676767676768,4537.69696969697,4583.717171717171,4629.737373737374,4675.757575757576,4721.777777777777,4767.79797979798,4813.818181818182,4859.838383838384,4905.858585858586,4951.878787878788,4997.89898989899,5043.919191919192,5089.939393939394,5135.959595959596,5181.979797979798,5228.0],\"y\":[92372.1618541925,92145.51573535945,92725.00562692451,93900.28471247578,95470.04474722865,97259.0209641541,99131.20937275238,100997.92030163103,102819.97877138155,104604.16765367624,106394.77347503137,108261.71642608222,110287.12572631406,112552.29869825096,115126.74856836867,118060.54918055772,121380.51945997187,125090.0825914137,129172.01792227599,133592.91263741837,138307.9889622826,143265.14797161688,148407.48882692825,153674.1350890961,158999.79618417524,164313.97318152472,169540.96628452797,174601.78631499963,179418.70709365833,183922.58084938192,188062.29372971941,191815.0186146999,195195.3895840714,198261.51213003806,201115.91610221687,203900.16079361347,206782.7400782563,209941.06630382402,213539.44372454967,217705.8703265576,222511.04814779985,227953.01037347346,233950.24401541793,240345.14833079587,246918.25832429057,253412.08526842023,259561.9240864218,265129.78993118036,269936.9707102958,273890.64125549106,277000.6052664401,279383.43890216824,281252.94046480686,282897.61445052084,284647.67602775234,286835.5043564372,289754.398043717,293620.7681049784,298544.51121185377,304511.3024482822,311379.0790084702,318889.25969537615,326691.49191598204,334379.1629582608,341531.7421701983,347759.3600698123,352744.9298275658,356279.5509817938,358287.81401792745,358840.8094150746,358155.97331055434,356584.21092679456,354585.8860455429,352698.14449079253,351496.5916321558,351554.5549476192,353403.0607276673,357494.2982892019,364170.8130589431,373642.04392703465,385969.1758764398,401058.6761555288,418664.36116766254,438397.4209713307,459743.5098723526,482085.7830908481,504732.60220396507,526948.5267361004,547987.1410724231,567124.2275463655,583689.7892702885,597097.4583752465,606869.9093127504,612659.0454491907,614259.9490670402,611617.88126284,604827.9805046134,594127.7178578831,579882.5951357427,562565.9853558703],\"type\":\"scatter\"},{\"line\":{\"color\":\"red\",\"dash\":\"dot\"},\"name\":\"-epsilon\",\"x\":[672.0,718.0202020202021,764.040404040404,810.060606060606,856.0808080808081,902.1010101010102,948.1212121212121,994.1414141414141,1040.1616161616162,1086.1818181818182,1132.2020202020203,1178.2222222222222,1224.2424242424242,1270.2626262626263,1316.2828282828282,1362.3030303030303,1408.3232323232323,1454.3434343434344,1500.3636363636365,1546.3838383838383,1592.4040404040404,1638.4242424242425,1684.4444444444443,1730.4646464646464,1776.4848484848485,1822.5050505050506,1868.5252525252527,1914.5454545454545,1960.5656565656566,2006.5858585858587,2052.6060606060605,2098.6262626262624,2144.6464646464647,2190.666666666667,2236.686868686869,2282.7070707070707,2328.727272727273,2374.747474747475,2420.7676767676767,2466.787878787879,2512.808080808081,2558.8282828282827,2604.848484848485,2650.868686868687,2696.8888888888887,2742.909090909091,2788.929292929293,2834.949494949495,2880.969696969697,2926.989898989899,2973.010101010101,3019.030303030303,3065.0505050505053,3111.070707070707,3157.090909090909,3203.1111111111113,3249.131313131313,3295.151515151515,3341.1717171717173,3387.191919191919,3433.212121212121,3479.2323232323233,3525.252525252525,3571.2727272727275,3617.2929292929293,3663.313131313131,3709.3333333333335,3755.3535353535353,3801.3737373737376,3847.3939393939395,3893.4141414141413,3939.4343434343436,3985.4545454545455,4031.4747474747473,4077.4949494949497,4123.515151515152,4169.535353535353,4215.555555555556,4261.575757575758,4307.595959595959,4353.616161616162,4399.636363636364,4445.656565656565,4491.676767676768,4537.69696969697,4583.717171717171,4629.737373737374,4675.757575757576,4721.777777777777,4767.79797979798,4813.818181818182,4859.838383838384,4905.858585858586,4951.878787878788,4997.89898989899,5043.919191919192,5089.939393939394,5135.959595959596,5181.979797979798,5228.0],\"y\":[92352.1618541925,92125.51573535945,92705.00562692451,93880.28471247578,95450.04474722865,97239.0209641541,99111.20937275238,100977.92030163103,102799.97877138155,104584.16765367624,106374.77347503137,108241.71642608222,110267.12572631406,112532.29869825096,115106.74856836867,118040.54918055772,121360.51945997187,125070.0825914137,129152.01792227599,133572.91263741837,138287.9889622826,143245.14797161688,148387.48882692825,153654.1350890961,158979.79618417524,164293.97318152472,169520.96628452797,174581.78631499963,179398.70709365833,183902.58084938192,188042.29372971941,191795.0186146999,195175.3895840714,198241.51213003806,201095.91610221687,203880.16079361347,206762.7400782563,209921.06630382402,213519.44372454967,217685.8703265576,222491.04814779985,227933.01037347346,233930.24401541793,240325.14833079587,246898.25832429057,253392.08526842023,259541.9240864218,265109.78993118036,269916.9707102958,273870.64125549106,276980.6052664401,279363.43890216824,281232.94046480686,282877.61445052084,284627.67602775234,286815.5043564372,289734.398043717,293600.7681049784,298524.51121185377,304491.3024482822,311359.0790084702,318869.25969537615,326671.49191598204,334359.1629582608,341511.7421701983,347739.3600698123,352724.9298275658,356259.5509817938,358267.81401792745,358820.8094150746,358135.97331055434,356564.21092679456,354565.8860455429,352678.14449079253,351476.5916321558,351534.5549476192,353383.0607276673,357474.2982892019,364150.8130589431,373622.04392703465,385949.1758764398,401038.6761555288,418644.36116766254,438377.4209713307,459723.5098723526,482065.7830908481,504712.60220396507,526928.5267361004,547967.1410724231,567104.2275463655,583669.7892702885,597077.4583752465,606849.9093127504,612639.0454491907,614239.9490670402,611597.88126284,604807.9805046134,594107.7178578831,579862.5951357427,562545.9853558703],\"type\":\"scatter\"}],                        {\"template\":{\"data\":{\"bar\":[{\"error_x\":{\"color\":\"#2a3f5f\"},\"error_y\":{\"color\":\"#2a3f5f\"},\"marker\":{\"line\":{\"color\":\"#E5ECF6\",\"width\":0.5},\"pattern\":{\"fillmode\":\"overlay\",\"size\":10,\"solidity\":0.2}},\"type\":\"bar\"}],\"barpolar\":[{\"marker\":{\"line\":{\"color\":\"#E5ECF6\",\"width\":0.5},\"pattern\":{\"fillmode\":\"overlay\",\"size\":10,\"solidity\":0.2}},\"type\":\"barpolar\"}],\"carpet\":[{\"aaxis\":{\"endlinecolor\":\"#2a3f5f\",\"gridcolor\":\"white\",\"linecolor\":\"white\",\"minorgridcolor\":\"white\",\"startlinecolor\":\"#2a3f5f\"},\"baxis\":{\"endlinecolor\":\"#2a3f5f\",\"gridcolor\":\"white\",\"linecolor\":\"white\",\"minorgridcolor\":\"white\",\"startlinecolor\":\"#2a3f5f\"},\"type\":\"carpet\"}],\"choropleth\":[{\"colorbar\":{\"outlinewidth\":0,\"ticks\":\"\"},\"type\":\"choropleth\"}],\"contour\":[{\"colorbar\":{\"outlinewidth\":0,\"ticks\":\"\"},\"colorscale\":[[0.0,\"#0d0887\"],[0.1111111111111111,\"#46039f\"],[0.2222222222222222,\"#7201a8\"],[0.3333333333333333,\"#9c179e\"],[0.4444444444444444,\"#bd3786\"],[0.5555555555555556,\"#d8576b\"],[0.6666666666666666,\"#ed7953\"],[0.7777777777777778,\"#fb9f3a\"],[0.8888888888888888,\"#fdca26\"],[1.0,\"#f0f921\"]],\"type\":\"contour\"}],\"contourcarpet\":[{\"colorbar\":{\"outlinewidth\":0,\"ticks\":\"\"},\"type\":\"contourcarpet\"}],\"heatmap\":[{\"colorbar\":{\"outlinewidth\":0,\"ticks\":\"\"},\"colorscale\":[[0.0,\"#0d0887\"],[0.1111111111111111,\"#46039f\"],[0.2222222222222222,\"#7201a8\"],[0.3333333333333333,\"#9c179e\"],[0.4444444444444444,\"#bd3786\"],[0.5555555555555556,\"#d8576b\"],[0.6666666666666666,\"#ed7953\"],[0.7777777777777778,\"#fb9f3a\"],[0.8888888888888888,\"#fdca26\"],[1.0,\"#f0f921\"]],\"type\":\"heatmap\"}],\"heatmapgl\":[{\"colorbar\":{\"outlinewidth\":0,\"ticks\":\"\"},\"colorscale\":[[0.0,\"#0d0887\"],[0.1111111111111111,\"#46039f\"],[0.2222222222222222,\"#7201a8\"],[0.3333333333333333,\"#9c179e\"],[0.4444444444444444,\"#bd3786\"],[0.5555555555555556,\"#d8576b\"],[0.6666666666666666,\"#ed7953\"],[0.7777777777777778,\"#fb9f3a\"],[0.8888888888888888,\"#fdca26\"],[1.0,\"#f0f921\"]],\"type\":\"heatmapgl\"}],\"histogram\":[{\"marker\":{\"pattern\":{\"fillmode\":\"overlay\",\"size\":10,\"solidity\":0.2}},\"type\":\"histogram\"}],\"histogram2d\":[{\"colorbar\":{\"outlinewidth\":0,\"ticks\":\"\"},\"colorscale\":[[0.0,\"#0d0887\"],[0.1111111111111111,\"#46039f\"],[0.2222222222222222,\"#7201a8\"],[0.3333333333333333,\"#9c179e\"],[0.4444444444444444,\"#bd3786\"],[0.5555555555555556,\"#d8576b\"],[0.6666666666666666,\"#ed7953\"],[0.7777777777777778,\"#fb9f3a\"],[0.8888888888888888,\"#fdca26\"],[1.0,\"#f0f921\"]],\"type\":\"histogram2d\"}],\"histogram2dcontour\":[{\"colorbar\":{\"outlinewidth\":0,\"ticks\":\"\"},\"colorscale\":[[0.0,\"#0d0887\"],[0.1111111111111111,\"#46039f\"],[0.2222222222222222,\"#7201a8\"],[0.3333333333333333,\"#9c179e\"],[0.4444444444444444,\"#bd3786\"],[0.5555555555555556,\"#d8576b\"],[0.6666666666666666,\"#ed7953\"],[0.7777777777777778,\"#fb9f3a\"],[0.8888888888888888,\"#fdca26\"],[1.0,\"#f0f921\"]],\"type\":\"histogram2dcontour\"}],\"mesh3d\":[{\"colorbar\":{\"outlinewidth\":0,\"ticks\":\"\"},\"type\":\"mesh3d\"}],\"parcoords\":[{\"line\":{\"colorbar\":{\"outlinewidth\":0,\"ticks\":\"\"}},\"type\":\"parcoords\"}],\"pie\":[{\"automargin\":true,\"type\":\"pie\"}],\"scatter\":[{\"marker\":{\"colorbar\":{\"outlinewidth\":0,\"ticks\":\"\"}},\"type\":\"scatter\"}],\"scatter3d\":[{\"line\":{\"colorbar\":{\"outlinewidth\":0,\"ticks\":\"\"}},\"marker\":{\"colorbar\":{\"outlinewidth\":0,\"ticks\":\"\"}},\"type\":\"scatter3d\"}],\"scattercarpet\":[{\"marker\":{\"colorbar\":{\"outlinewidth\":0,\"ticks\":\"\"}},\"type\":\"scattercarpet\"}],\"scattergeo\":[{\"marker\":{\"colorbar\":{\"outlinewidth\":0,\"ticks\":\"\"}},\"type\":\"scattergeo\"}],\"scattergl\":[{\"marker\":{\"colorbar\":{\"outlinewidth\":0,\"ticks\":\"\"}},\"type\":\"scattergl\"}],\"scattermapbox\":[{\"marker\":{\"colorbar\":{\"outlinewidth\":0,\"ticks\":\"\"}},\"type\":\"scattermapbox\"}],\"scatterpolar\":[{\"marker\":{\"colorbar\":{\"outlinewidth\":0,\"ticks\":\"\"}},\"type\":\"scatterpolar\"}],\"scatterpolargl\":[{\"marker\":{\"colorbar\":{\"outlinewidth\":0,\"ticks\":\"\"}},\"type\":\"scatterpolargl\"}],\"scatterternary\":[{\"marker\":{\"colorbar\":{\"outlinewidth\":0,\"ticks\":\"\"}},\"type\":\"scatterternary\"}],\"surface\":[{\"colorbar\":{\"outlinewidth\":0,\"ticks\":\"\"},\"colorscale\":[[0.0,\"#0d0887\"],[0.1111111111111111,\"#46039f\"],[0.2222222222222222,\"#7201a8\"],[0.3333333333333333,\"#9c179e\"],[0.4444444444444444,\"#bd3786\"],[0.5555555555555556,\"#d8576b\"],[0.6666666666666666,\"#ed7953\"],[0.7777777777777778,\"#fb9f3a\"],[0.8888888888888888,\"#fdca26\"],[1.0,\"#f0f921\"]],\"type\":\"surface\"}],\"table\":[{\"cells\":{\"fill\":{\"color\":\"#EBF0F8\"},\"line\":{\"color\":\"white\"}},\"header\":{\"fill\":{\"color\":\"#C8D4E3\"},\"line\":{\"color\":\"white\"}},\"type\":\"table\"}]},\"layout\":{\"annotationdefaults\":{\"arrowcolor\":\"#2a3f5f\",\"arrowhead\":0,\"arrowwidth\":1},\"autotypenumbers\":\"strict\",\"coloraxis\":{\"colorbar\":{\"outlinewidth\":0,\"ticks\":\"\"}},\"colorscale\":{\"diverging\":[[0,\"#8e0152\"],[0.1,\"#c51b7d\"],[0.2,\"#de77ae\"],[0.3,\"#f1b6da\"],[0.4,\"#fde0ef\"],[0.5,\"#f7f7f7\"],[0.6,\"#e6f5d0\"],[0.7,\"#b8e186\"],[0.8,\"#7fbc41\"],[0.9,\"#4d9221\"],[1,\"#276419\"]],\"sequential\":[[0.0,\"#0d0887\"],[0.1111111111111111,\"#46039f\"],[0.2222222222222222,\"#7201a8\"],[0.3333333333333333,\"#9c179e\"],[0.4444444444444444,\"#bd3786\"],[0.5555555555555556,\"#d8576b\"],[0.6666666666666666,\"#ed7953\"],[0.7777777777777778,\"#fb9f3a\"],[0.8888888888888888,\"#fdca26\"],[1.0,\"#f0f921\"]],\"sequentialminus\":[[0.0,\"#0d0887\"],[0.1111111111111111,\"#46039f\"],[0.2222222222222222,\"#7201a8\"],[0.3333333333333333,\"#9c179e\"],[0.4444444444444444,\"#bd3786\"],[0.5555555555555556,\"#d8576b\"],[0.6666666666666666,\"#ed7953\"],[0.7777777777777778,\"#fb9f3a\"],[0.8888888888888888,\"#fdca26\"],[1.0,\"#f0f921\"]]},\"colorway\":[\"#636efa\",\"#EF553B\",\"#00cc96\",\"#ab63fa\",\"#FFA15A\",\"#19d3f3\",\"#FF6692\",\"#B6E880\",\"#FF97FF\",\"#FECB52\"],\"font\":{\"color\":\"#2a3f5f\"},\"geo\":{\"bgcolor\":\"white\",\"lakecolor\":\"white\",\"landcolor\":\"#E5ECF6\",\"showlakes\":true,\"showland\":true,\"subunitcolor\":\"white\"},\"hoverlabel\":{\"align\":\"left\"},\"hovermode\":\"closest\",\"mapbox\":{\"style\":\"light\"},\"paper_bgcolor\":\"white\",\"plot_bgcolor\":\"#E5ECF6\",\"polar\":{\"angularaxis\":{\"gridcolor\":\"white\",\"linecolor\":\"white\",\"ticks\":\"\"},\"bgcolor\":\"#E5ECF6\",\"radialaxis\":{\"gridcolor\":\"white\",\"linecolor\":\"white\",\"ticks\":\"\"}},\"scene\":{\"xaxis\":{\"backgroundcolor\":\"#E5ECF6\",\"gridcolor\":\"white\",\"gridwidth\":2,\"linecolor\":\"white\",\"showbackground\":true,\"ticks\":\"\",\"zerolinecolor\":\"white\"},\"yaxis\":{\"backgroundcolor\":\"#E5ECF6\",\"gridcolor\":\"white\",\"gridwidth\":2,\"linecolor\":\"white\",\"showbackground\":true,\"ticks\":\"\",\"zerolinecolor\":\"white\"},\"zaxis\":{\"backgroundcolor\":\"#E5ECF6\",\"gridcolor\":\"white\",\"gridwidth\":2,\"linecolor\":\"white\",\"showbackground\":true,\"ticks\":\"\",\"zerolinecolor\":\"white\"}},\"shapedefaults\":{\"line\":{\"color\":\"#2a3f5f\"}},\"ternary\":{\"aaxis\":{\"gridcolor\":\"white\",\"linecolor\":\"white\",\"ticks\":\"\"},\"baxis\":{\"gridcolor\":\"white\",\"linecolor\":\"white\",\"ticks\":\"\"},\"bgcolor\":\"#E5ECF6\",\"caxis\":{\"gridcolor\":\"white\",\"linecolor\":\"white\",\"ticks\":\"\"}},\"title\":{\"x\":0.05},\"xaxis\":{\"automargin\":true,\"gridcolor\":\"white\",\"linecolor\":\"white\",\"ticks\":\"\",\"title\":{\"standoff\":15},\"zerolinecolor\":\"white\",\"zerolinewidth\":2},\"yaxis\":{\"automargin\":true,\"gridcolor\":\"white\",\"linecolor\":\"white\",\"ticks\":\"\",\"title\":{\"standoff\":15},\"zerolinecolor\":\"white\",\"zerolinewidth\":2}}},\"xaxis\":{\"anchor\":\"y\",\"domain\":[0.0,1.0],\"title\":{\"text\":\"Area\"},\"showgrid\":true,\"gridwidth\":1,\"gridcolor\":\"lightgrey\",\"zeroline\":true,\"zerolinewidth\":1,\"zerolinecolor\":\"lightgrey\",\"showline\":true,\"linewidth\":1,\"linecolor\":\"black\"},\"yaxis\":{\"anchor\":\"x\",\"domain\":[0.0,1.0],\"title\":{\"text\":\"Price\"},\"showgrid\":true,\"gridwidth\":1,\"gridcolor\":\"lightgrey\",\"zeroline\":true,\"zerolinewidth\":1,\"zerolinecolor\":\"lightgrey\",\"showline\":true,\"linewidth\":1,\"linecolor\":\"black\"},\"legend\":{\"tracegroupgap\":0},\"margin\":{\"t\":60},\"plot_bgcolor\":\"white\"},                        {\"responsive\": true}                    ).then(function(){\n",
              "                            \n",
              "var gd = document.getElementById('311c572a-f16a-43be-aeee-126ac871026c');\n",
              "var x = new MutationObserver(function (mutations, observer) {{\n",
              "        var display = window.getComputedStyle(gd).display;\n",
              "        if (!display || display === 'none') {{\n",
              "            console.log([gd, 'removed!']);\n",
              "            Plotly.purge(gd);\n",
              "            observer.disconnect();\n",
              "        }}\n",
              "}});\n",
              "\n",
              "// Listen for the removal of the full notebook cells\n",
              "var notebookContainer = gd.closest('#notebook-container');\n",
              "if (notebookContainer) {{\n",
              "    x.observe(notebookContainer, {childList: true});\n",
              "}}\n",
              "\n",
              "// Listen for the clearing of the current output cell\n",
              "var outputEl = gd.closest('.output');\n",
              "if (outputEl) {{\n",
              "    x.observe(outputEl, {childList: true});\n",
              "}}\n",
              "\n",
              "                        })                };                            </script>        </div>\n",
              "</body>\n",
              "</html>"
            ]
          },
          "metadata": {}
        }
      ]
    },
    {
      "cell_type": "code",
      "source": [],
      "metadata": {
        "id": "LkiZKUmeCQMP"
      },
      "execution_count": null,
      "outputs": []
    }
  ]
}